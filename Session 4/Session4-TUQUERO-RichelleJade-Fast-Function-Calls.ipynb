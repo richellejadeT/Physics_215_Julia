{
 "cells": [
  {
   "cell_type": "markdown",
   "id": "442a55ed",
   "metadata": {},
   "source": [
    "Physics 215 (1st Semester AY 2022-2023)\n",
    "\n",
    "Richelle Jade L. Tuquero"
   ]
  },
  {
   "cell_type": "markdown",
   "id": "3b7764f9",
   "metadata": {},
   "source": [
    "# Session 4 Fast Function Calls (OKR)\n",
    "\n",
    "**OBJECTIVE**: Compare benchmark times of different implementation of functions that can be expressed as a recursion relation.\n",
    "\n",
    "- [X] **KR1:** Benchmarked at least two (2) different implementation of the same function or process (e.g. raising each element of an array to some power `p`, random array may be used) that utilizes some parameter that can be considered a constant or declared globally. Typical methods: (1) Global variable, (2) Constant global variable, and (3) Named parameter variable.\n",
    "- [X] **KR2:** Replicated the naive implementation of the polynomial in the textbook.\n",
    "- [X] **KR3:** Replicated the naive implementation of the Horner's method for the same polynomial.\n",
    "- [X] **KR4:** Replicated the macro implementation of the Horner's method of the same polynomial.\n",
    "- [X] **KR5:** Table showing how many _minutes_ will the function evaluations in both KR3 and KR4 be reduced if KR2 requires 24hours of runtime."
   ]
  },
  {
   "cell_type": "markdown",
   "id": "fafe792a",
   "metadata": {},
   "source": [
    "In this session, we will implement and achieve the necessary key results. Moreover, the methods that were replicated are from chapter 4 of the book [Julia High Performance](https://juliahighperformance.com/) by Alan Edelman.\n"
   ]
  },
  {
   "cell_type": "code",
   "execution_count": 1,
   "id": "c3a18c9b",
   "metadata": {},
   "outputs": [
    {
     "name": "stderr",
     "output_type": "stream",
     "text": [
      "\u001b[32m\u001b[1m  Activating\u001b[22m\u001b[39m project at `~/Desktop/Physics 215/Submission/Session 4`\n",
      "\u001b[32m\u001b[1m    Updating\u001b[22m\u001b[39m registry at `~/.julia/registries/General.toml`\n",
      "\u001b[32m\u001b[1m   Resolving\u001b[22m\u001b[39m package versions...\n",
      "\u001b[32m\u001b[1m  No Changes\u001b[22m\u001b[39m to `~/Desktop/Physics 215/Submission/Session 4/Project.toml`\n",
      "\u001b[32m\u001b[1m  No Changes\u001b[22m\u001b[39m to `~/Desktop/Physics 215/Submission/Session 4/Manifest.toml`\n",
      "\u001b[32m\u001b[1m   Resolving\u001b[22m\u001b[39m package versions...\n",
      "\u001b[32m\u001b[1m  No Changes\u001b[22m\u001b[39m to `~/Desktop/Physics 215/Submission/Session 4/Project.toml`\n",
      "\u001b[32m\u001b[1m  No Changes\u001b[22m\u001b[39m to `~/Desktop/Physics 215/Submission/Session 4/Manifest.toml`\n",
      "\u001b[32m\u001b[1m    Updating\u001b[22m\u001b[39m registry at `~/.julia/registries/General.toml`\n",
      "\u001b[32m\u001b[1m  No Changes\u001b[22m\u001b[39m to `~/Desktop/Physics 215/Submission/Session 4/Project.toml`\n",
      "\u001b[32m\u001b[1m  No Changes\u001b[22m\u001b[39m to `~/Desktop/Physics 215/Submission/Session 4/Manifest.toml`\n"
     ]
    },
    {
     "name": "stdout",
     "output_type": "stream",
     "text": [
      "\u001b[32m\u001b[1mStatus\u001b[22m\u001b[39m `~/Desktop/Physics 215/Submission/Session 4/Project.toml`\n",
      " \u001b[90m [6e4b80f9] \u001b[39mBenchmarkTools v1.3.2\n",
      " \u001b[90m [a93c6f00] \u001b[39mDataFrames v1.4.3\n"
     ]
    }
   ],
   "source": [
    "using Pkg;\n",
    "Pkg.activate(\".\")\n",
    "Pkg.add(\"BenchmarkTools\")\n",
    "Pkg.add(\"DataFrames\")\n",
    "\n",
    "Pkg.update()\n",
    "Pkg.status()"
   ]
  },
  {
   "cell_type": "markdown",
   "id": "0848e5e3",
   "metadata": {},
   "source": [
    "# KR1\n",
    "Benchmarked at least two (2) different implementation of the same function or process (e.g. raising each element of an array to some power p, random array may be used) that utilizes some parameter that can be considered a constant or declared globally. Typical methods: (1) Global variable, (2) Constant global variable, and (3) Named parameter variable."
   ]
  },
  {
   "cell_type": "markdown",
   "id": "edcfb989",
   "metadata": {},
   "source": [
    "First we load ``BenchmarkTools`` and ``DataFrames`` in order to compare and show the benchmarks of different methods."
   ]
  },
  {
   "cell_type": "code",
   "execution_count": 2,
   "id": "7313a824",
   "metadata": {},
   "outputs": [],
   "source": [
    "using BenchmarkTools\n",
    "using DataFrames"
   ]
  },
  {
   "cell_type": "markdown",
   "id": "e27af21d",
   "metadata": {},
   "source": [
    "In here we aim to create a function with different implementation depending on the variables. The function we will implement aims to take the sum of the elements of the array raised to a defined variable.\n",
    "\n",
    "## Global variable\n",
    "We first implement a global variable by stating the value of a variable. In this implementation, we will refer to this as ``p``."
   ]
  },
  {
   "cell_type": "code",
   "execution_count": 3,
   "id": "6c56e3c6",
   "metadata": {},
   "outputs": [
    {
     "data": {
      "text/plain": [
       "raise_sum (generic function with 1 method)"
      ]
     },
     "execution_count": 3,
     "metadata": {},
     "output_type": "execute_result"
    }
   ],
   "source": [
    "p = 2; # Global variable\n",
    "\n",
    "# Function using the global variable p.\n",
    "function raise_sum(x::Vector)\n",
    "    sum = zero(eltype(x))\n",
    "    for i in x\n",
    "        sum += i^p\n",
    "    end\n",
    "    return sum\n",
    "end"
   ]
  },
  {
   "cell_type": "markdown",
   "id": "ac21e1a4",
   "metadata": {},
   "source": [
    "To benchmark the function using the global variable, we generate an array called as ``data``."
   ]
  },
  {
   "cell_type": "code",
   "execution_count": 4,
   "id": "c2d4db15",
   "metadata": {},
   "outputs": [],
   "source": [
    "data = rand(200_000);"
   ]
  },
  {
   "cell_type": "markdown",
   "id": "a7100e36",
   "metadata": {},
   "source": [
    "Next, we implement ``@benchmark`` to get the benchmark of the function using the generated ``data`` as input and the global variable ``p``. We also included another method which will just give the time for the benchmark called as ``@btime``. However, we will only use ``@benchmark`` in the comparison of the time for the different methods."
   ]
  },
  {
   "cell_type": "code",
   "execution_count": 5,
   "id": "af6df204",
   "metadata": {},
   "outputs": [
    {
     "data": {
      "text/plain": [
       "BenchmarkTools.Trial: 669 samples with 1 evaluation.\n",
       " Range \u001b[90m(\u001b[39m\u001b[36m\u001b[1mmin\u001b[22m\u001b[39m … \u001b[35mmax\u001b[39m\u001b[90m):  \u001b[39m\u001b[36m\u001b[1m6.958 ms\u001b[22m\u001b[39m … \u001b[35m 12.933 ms\u001b[39m  \u001b[90m┊\u001b[39m GC \u001b[90m(\u001b[39mmin … max\u001b[90m): \u001b[39m0.00% … 0.00%\n",
       " Time  \u001b[90m(\u001b[39m\u001b[34m\u001b[1mmedian\u001b[22m\u001b[39m\u001b[90m):     \u001b[39m\u001b[34m\u001b[1m7.166 ms               \u001b[22m\u001b[39m\u001b[90m┊\u001b[39m GC \u001b[90m(\u001b[39mmedian\u001b[90m):    \u001b[39m0.00%\n",
       " Time  \u001b[90m(\u001b[39m\u001b[32m\u001b[1mmean\u001b[22m\u001b[39m ± \u001b[32mσ\u001b[39m\u001b[90m):   \u001b[39m\u001b[32m\u001b[1m7.476 ms\u001b[22m\u001b[39m ± \u001b[32m750.423 μs\u001b[39m  \u001b[90m┊\u001b[39m GC \u001b[90m(\u001b[39mmean ± σ\u001b[90m):  \u001b[39m3.47% ± 6.55%\n",
       "\n",
       "  \u001b[39m▃\u001b[39m▆\u001b[39m▇\u001b[34m█\u001b[39m\u001b[39m▄\u001b[39m▂\u001b[39m▂\u001b[39m \u001b[32m \u001b[39m\u001b[39m \u001b[39m \u001b[39m \u001b[39m \u001b[39m \u001b[39m \u001b[39m \u001b[39m \u001b[39m \u001b[39m \u001b[39m \u001b[39m▁\u001b[39m▁\u001b[39m▂\u001b[39m▂\u001b[39m▃\u001b[39m \u001b[39m \u001b[39m \u001b[39m \u001b[39m \u001b[39m \u001b[39m \u001b[39m \u001b[39m \u001b[39m \u001b[39m \u001b[39m \u001b[39m \u001b[39m \u001b[39m \u001b[39m \u001b[39m \u001b[39m \u001b[39m \u001b[39m \u001b[39m \u001b[39m \u001b[39m \u001b[39m \u001b[39m \u001b[39m \u001b[39m \u001b[39m \u001b[39m \u001b[39m \u001b[39m \u001b[39m \u001b[39m \u001b[39m \u001b[39m \u001b[39m \n",
       "  \u001b[39m█\u001b[39m█\u001b[39m█\u001b[34m█\u001b[39m\u001b[39m█\u001b[39m█\u001b[39m█\u001b[39m█\u001b[32m▆\u001b[39m\u001b[39m▅\u001b[39m▆\u001b[39m▅\u001b[39m▆\u001b[39m▁\u001b[39m▅\u001b[39m▄\u001b[39m▁\u001b[39m▄\u001b[39m▄\u001b[39m▆\u001b[39m█\u001b[39m█\u001b[39m█\u001b[39m█\u001b[39m█\u001b[39m▇\u001b[39m▆\u001b[39m▇\u001b[39m▆\u001b[39m▆\u001b[39m▅\u001b[39m▅\u001b[39m▁\u001b[39m▁\u001b[39m▁\u001b[39m▁\u001b[39m▄\u001b[39m▁\u001b[39m▄\u001b[39m▁\u001b[39m▁\u001b[39m▄\u001b[39m▄\u001b[39m▁\u001b[39m▁\u001b[39m▁\u001b[39m▄\u001b[39m▁\u001b[39m▄\u001b[39m▄\u001b[39m▁\u001b[39m▁\u001b[39m▁\u001b[39m▁\u001b[39m▁\u001b[39m▁\u001b[39m▁\u001b[39m▁\u001b[39m▄\u001b[39m \u001b[39m▇\n",
       "  6.96 ms\u001b[90m      \u001b[39m\u001b[90mHistogram: \u001b[39m\u001b[90m\u001b[1mlog(\u001b[22m\u001b[39m\u001b[90mfrequency\u001b[39m\u001b[90m\u001b[1m)\u001b[22m\u001b[39m\u001b[90m by time\u001b[39m      10.6 ms \u001b[0m\u001b[1m<\u001b[22m\n",
       "\n",
       " Memory estimate\u001b[90m: \u001b[39m\u001b[33m9.16 MiB\u001b[39m, allocs estimate\u001b[90m: \u001b[39m\u001b[33m600000\u001b[39m."
      ]
     },
     "execution_count": 5,
     "metadata": {},
     "output_type": "execute_result"
    }
   ],
   "source": [
    "mark1 = @benchmark raise_sum($data)"
   ]
  },
  {
   "cell_type": "code",
   "execution_count": 6,
   "id": "a99da6b8",
   "metadata": {},
   "outputs": [
    {
     "name": "stdout",
     "output_type": "stream",
     "text": [
      "  6.934 ms (600000 allocations: 9.16 MiB)\n"
     ]
    },
    {
     "data": {
      "text/plain": [
       "66823.36380191674"
      ]
     },
     "execution_count": 6,
     "metadata": {},
     "output_type": "execute_result"
    }
   ],
   "source": [
    "time1 = @btime raise_sum($data)"
   ]
  },
  {
   "cell_type": "markdown",
   "id": "bd34ced3",
   "metadata": {},
   "source": [
    "Based on the above results, it takes a median time of 7.166 $ms$ to evaluate the function using a global variable.\n",
    "\n",
    "To get a better look of the actions in the compiler and possible sources of error, we implement ``@code_warntype``."
   ]
  },
  {
   "cell_type": "code",
   "execution_count": 7,
   "id": "686ec9fa",
   "metadata": {},
   "outputs": [
    {
     "name": "stdout",
     "output_type": "stream",
     "text": [
      "MethodInstance for raise_sum(::Vector{Float64})\n",
      "  from raise_sum(x::Vector) in Main at In[3]:4\n",
      "Arguments\n",
      "  #self#\u001b[36m::Core.Const(raise_sum)\u001b[39m\n",
      "  x\u001b[36m::Vector{Float64}\u001b[39m\n",
      "Locals\n",
      "  @_3\u001b[33m\u001b[1m::Union{Nothing, Tuple{Float64, Int64}}\u001b[22m\u001b[39m\n",
      "  sum\u001b[91m\u001b[1m::Any\u001b[22m\u001b[39m\n",
      "  i\u001b[36m::Float64\u001b[39m\n",
      "Body\u001b[91m\u001b[1m::Any\u001b[22m\u001b[39m\n",
      "\u001b[90m1 ─\u001b[39m %1  = Main.eltype(x)\u001b[36m::Core.Const(Float64)\u001b[39m\n",
      "\u001b[90m│  \u001b[39m       (sum = Main.zero(%1))\n",
      "\u001b[90m│  \u001b[39m %3  = x\u001b[36m::Vector{Float64}\u001b[39m\n",
      "\u001b[90m│  \u001b[39m       (@_3 = Base.iterate(%3))\n",
      "\u001b[90m│  \u001b[39m %5  = (@_3 === nothing)\u001b[36m::Bool\u001b[39m\n",
      "\u001b[90m│  \u001b[39m %6  = Base.not_int(%5)\u001b[36m::Bool\u001b[39m\n",
      "\u001b[90m└──\u001b[39m       goto #4 if not %6\n",
      "\u001b[90m2 ┄\u001b[39m %8  = @_3\u001b[36m::Tuple{Float64, Int64}\u001b[39m\n",
      "\u001b[90m│  \u001b[39m       (i = Core.getfield(%8, 1))\n",
      "\u001b[90m│  \u001b[39m %10 = Core.getfield(%8, 2)\u001b[36m::Int64\u001b[39m\n",
      "\u001b[90m│  \u001b[39m %11 = sum\u001b[91m\u001b[1m::Any\u001b[22m\u001b[39m\n",
      "\u001b[90m│  \u001b[39m %12 = (i ^ Main.p)\u001b[91m\u001b[1m::Any\u001b[22m\u001b[39m\n",
      "\u001b[90m│  \u001b[39m       (sum = %11 + %12)\n",
      "\u001b[90m│  \u001b[39m       (@_3 = Base.iterate(%3, %10))\n",
      "\u001b[90m│  \u001b[39m %15 = (@_3 === nothing)\u001b[36m::Bool\u001b[39m\n",
      "\u001b[90m│  \u001b[39m %16 = Base.not_int(%15)\u001b[36m::Bool\u001b[39m\n",
      "\u001b[90m└──\u001b[39m       goto #4 if not %16\n",
      "\u001b[90m3 ─\u001b[39m       goto #2\n",
      "\u001b[90m4 ┄\u001b[39m       return sum\n",
      "\n"
     ]
    }
   ],
   "source": [
    "@code_warntype raise_sum(data)"
   ]
  },
  {
   "cell_type": "markdown",
   "id": "e0c4de55",
   "metadata": {},
   "source": [
    "From the output of the ``@code_warntype``, we found that the compiler was unable to assign the type for ``sum``. In here, it was noted that the type is ``Any`` resulting to slower time of the evaluation. Hence, one of the disadvantages of the global variable is that the compiler assigns the type ``Any`` since it is unable to assign a specific type.\n",
    "\n",
    "## Constant global variable\n",
    "Next, we consider declaring ``const`` to a global variable ``p2``. "
   ]
  },
  {
   "cell_type": "code",
   "execution_count": 8,
   "id": "6ec5e281",
   "metadata": {},
   "outputs": [],
   "source": [
    "const p2 = 2; # constant global variable"
   ]
  },
  {
   "cell_type": "markdown",
   "id": "744b975a",
   "metadata": {},
   "source": [
    "We also show that a constant global variable can change values but their type does not change."
   ]
  },
  {
   "cell_type": "code",
   "execution_count": 9,
   "id": "64ca24ba",
   "metadata": {},
   "outputs": [
    {
     "name": "stderr",
     "output_type": "stream",
     "text": [
      "WARNING: redefinition of constant p2. This may fail, cause incorrect answers, or produce other errors.\n"
     ]
    },
    {
     "data": {
      "text/plain": [
       "3"
      ]
     },
     "execution_count": 9,
     "metadata": {},
     "output_type": "execute_result"
    }
   ],
   "source": [
    "p2 = 3"
   ]
  },
  {
   "cell_type": "code",
   "execution_count": 10,
   "id": "ed4b3372",
   "metadata": {},
   "outputs": [
    {
     "ename": "LoadError",
     "evalue": "invalid redefinition of constant p2",
     "output_type": "error",
     "traceback": [
      "invalid redefinition of constant p2",
      "",
      "Stacktrace:",
      " [1] top-level scope",
      "   @ In[10]:1",
      " [2] eval",
      "   @ ./boot.jl:368 [inlined]",
      " [3] include_string(mapexpr::typeof(REPL.softscope), mod::Module, code::String, filename::String)",
      "   @ Base ./loading.jl:1428"
     ]
    }
   ],
   "source": [
    "p2 = 3.0"
   ]
  },
  {
   "cell_type": "markdown",
   "id": "d5a41fac",
   "metadata": {},
   "source": [
    "Then, we implement the same process as that in the **global variable** section to benchmark the result for constant global variable."
   ]
  },
  {
   "cell_type": "code",
   "execution_count": 11,
   "id": "b20e1ae8",
   "metadata": {},
   "outputs": [
    {
     "data": {
      "text/plain": [
       "const_raise_sum (generic function with 1 method)"
      ]
     },
     "execution_count": 11,
     "metadata": {},
     "output_type": "execute_result"
    }
   ],
   "source": [
    "const pconst = 2;\n",
    "\n",
    "# function for using constant global variable p2.\n",
    "function const_raise_sum(x::Vector)\n",
    "    sum = zero(eltype(x))\n",
    "    for i in x\n",
    "        sum += i^pconst\n",
    "    end\n",
    "    return sum\n",
    "end"
   ]
  },
  {
   "cell_type": "code",
   "execution_count": 12,
   "id": "37bb60b9",
   "metadata": {},
   "outputs": [
    {
     "data": {
      "text/plain": [
       "BenchmarkTools.Trial: 8656 samples with 1 evaluation.\n",
       " Range \u001b[90m(\u001b[39m\u001b[36m\u001b[1mmin\u001b[22m\u001b[39m … \u001b[35mmax\u001b[39m\u001b[90m):  \u001b[39m\u001b[36m\u001b[1m572.417 μs\u001b[22m\u001b[39m … \u001b[35m720.541 μs\u001b[39m  \u001b[90m┊\u001b[39m GC \u001b[90m(\u001b[39mmin … max\u001b[90m): \u001b[39m0.00% … 0.00%\n",
       " Time  \u001b[90m(\u001b[39m\u001b[34m\u001b[1mmedian\u001b[22m\u001b[39m\u001b[90m):     \u001b[39m\u001b[34m\u001b[1m572.875 μs               \u001b[22m\u001b[39m\u001b[90m┊\u001b[39m GC \u001b[90m(\u001b[39mmedian\u001b[90m):    \u001b[39m0.00%\n",
       " Time  \u001b[90m(\u001b[39m\u001b[32m\u001b[1mmean\u001b[22m\u001b[39m ± \u001b[32mσ\u001b[39m\u001b[90m):   \u001b[39m\u001b[32m\u001b[1m575.614 μs\u001b[22m\u001b[39m ± \u001b[32m  7.212 μs\u001b[39m  \u001b[90m┊\u001b[39m GC \u001b[90m(\u001b[39mmean ± σ\u001b[90m):  \u001b[39m0.00% ± 0.00%\n",
       "\n",
       "  \u001b[39m█\u001b[34m▃\u001b[39m\u001b[39m▃\u001b[39m▂\u001b[39m▄\u001b[39m▆\u001b[32m▁\u001b[39m\u001b[39m▃\u001b[39m▂\u001b[39m▁\u001b[39m \u001b[39m▁\u001b[39m \u001b[39m \u001b[39m \u001b[39m \u001b[39m▁\u001b[39m \u001b[39m \u001b[39m \u001b[39m \u001b[39m \u001b[39m \u001b[39m \u001b[39m \u001b[39m \u001b[39m \u001b[39m \u001b[39m \u001b[39m \u001b[39m \u001b[39m \u001b[39m \u001b[39m \u001b[39m \u001b[39m \u001b[39m \u001b[39m \u001b[39m \u001b[39m \u001b[39m \u001b[39m \u001b[39m \u001b[39m \u001b[39m \u001b[39m \u001b[39m \u001b[39m \u001b[39m \u001b[39m \u001b[39m \u001b[39m \u001b[39m \u001b[39m \u001b[39m \u001b[39m \u001b[39m \u001b[39m \u001b[39m \u001b[39m \u001b[39m \u001b[39m \u001b[39m▁\n",
       "  \u001b[39m█\u001b[34m█\u001b[39m\u001b[39m█\u001b[39m█\u001b[39m█\u001b[39m█\u001b[32m█\u001b[39m\u001b[39m█\u001b[39m█\u001b[39m█\u001b[39m█\u001b[39m█\u001b[39m█\u001b[39m█\u001b[39m█\u001b[39m█\u001b[39m█\u001b[39m█\u001b[39m█\u001b[39m▇\u001b[39m▇\u001b[39m▇\u001b[39m▇\u001b[39m▅\u001b[39m▆\u001b[39m▅\u001b[39m▆\u001b[39m▂\u001b[39m▅\u001b[39m▅\u001b[39m▅\u001b[39m▅\u001b[39m▄\u001b[39m▅\u001b[39m▄\u001b[39m▄\u001b[39m▅\u001b[39m▄\u001b[39m▅\u001b[39m▂\u001b[39m▅\u001b[39m▅\u001b[39m▅\u001b[39m▅\u001b[39m▅\u001b[39m▄\u001b[39m▆\u001b[39m▅\u001b[39m▅\u001b[39m▅\u001b[39m▅\u001b[39m▅\u001b[39m▅\u001b[39m▆\u001b[39m▇\u001b[39m▆\u001b[39m▆\u001b[39m▆\u001b[39m▅\u001b[39m▅\u001b[39m▅\u001b[39m \u001b[39m█\n",
       "  572 μs\u001b[90m        \u001b[39m\u001b[90mHistogram: \u001b[39m\u001b[90m\u001b[1mlog(\u001b[22m\u001b[39m\u001b[90mfrequency\u001b[39m\u001b[90m\u001b[1m)\u001b[22m\u001b[39m\u001b[90m by time\u001b[39m        607 μs \u001b[0m\u001b[1m<\u001b[22m\n",
       "\n",
       " Memory estimate\u001b[90m: \u001b[39m\u001b[33m0 bytes\u001b[39m, allocs estimate\u001b[90m: \u001b[39m\u001b[33m0\u001b[39m."
      ]
     },
     "execution_count": 12,
     "metadata": {},
     "output_type": "execute_result"
    }
   ],
   "source": [
    "mark2 = @benchmark const_raise_sum($data)"
   ]
  },
  {
   "cell_type": "markdown",
   "id": "e658082e",
   "metadata": {},
   "source": [
    "From the result of the benchmark, we observe that using a global constant variable results to faster evaluation than using a global variable. Note that the time median is 572.875 $\\mu s$. We also check for possible warnings and the type of the result using ``@code_warntype``."
   ]
  },
  {
   "cell_type": "code",
   "execution_count": 13,
   "id": "1d4cbb14",
   "metadata": {},
   "outputs": [
    {
     "name": "stdout",
     "output_type": "stream",
     "text": [
      "MethodInstance for const_raise_sum(::Vector{Float64})\n",
      "  from const_raise_sum(x::Vector) in Main at In[11]:4\n",
      "Arguments\n",
      "  #self#\u001b[36m::Core.Const(const_raise_sum)\u001b[39m\n",
      "  x\u001b[36m::Vector{Float64}\u001b[39m\n",
      "Locals\n",
      "  @_3\u001b[33m\u001b[1m::Union{Nothing, Tuple{Float64, Int64}}\u001b[22m\u001b[39m\n",
      "  sum\u001b[36m::Float64\u001b[39m\n",
      "  i\u001b[36m::Float64\u001b[39m\n",
      "Body\u001b[36m::Float64\u001b[39m\n",
      "\u001b[90m1 ─\u001b[39m %1  = Main.eltype(x)\u001b[36m::Core.Const(Float64)\u001b[39m\n",
      "\u001b[90m│  \u001b[39m       (sum = Main.zero(%1))\n",
      "\u001b[90m│  \u001b[39m %3  = x\u001b[36m::Vector{Float64}\u001b[39m\n",
      "\u001b[90m│  \u001b[39m       (@_3 = Base.iterate(%3))\n",
      "\u001b[90m│  \u001b[39m %5  = (@_3 === nothing)\u001b[36m::Bool\u001b[39m\n",
      "\u001b[90m│  \u001b[39m %6  = Base.not_int(%5)\u001b[36m::Bool\u001b[39m\n",
      "\u001b[90m└──\u001b[39m       goto #4 if not %6\n",
      "\u001b[90m2 ┄\u001b[39m %8  = @_3\u001b[36m::Tuple{Float64, Int64}\u001b[39m\n",
      "\u001b[90m│  \u001b[39m       (i = Core.getfield(%8, 1))\n",
      "\u001b[90m│  \u001b[39m %10 = Core.getfield(%8, 2)\u001b[36m::Int64\u001b[39m\n",
      "\u001b[90m│  \u001b[39m %11 = sum\u001b[36m::Float64\u001b[39m\n",
      "\u001b[90m│  \u001b[39m %12 = (i ^ Main.pconst)\u001b[36m::Float64\u001b[39m\n",
      "\u001b[90m│  \u001b[39m       (sum = %11 + %12)\n",
      "\u001b[90m│  \u001b[39m       (@_3 = Base.iterate(%3, %10))\n",
      "\u001b[90m│  \u001b[39m %15 = (@_3 === nothing)\u001b[36m::Bool\u001b[39m\n",
      "\u001b[90m│  \u001b[39m %16 = Base.not_int(%15)\u001b[36m::Bool\u001b[39m\n",
      "\u001b[90m└──\u001b[39m       goto #4 if not %16\n",
      "\u001b[90m3 ─\u001b[39m       goto #2\n",
      "\u001b[90m4 ┄\u001b[39m       return sum\n",
      "\n"
     ]
    }
   ],
   "source": [
    "@code_warntype const_raise_sum(data)"
   ]
  },
  {
   "cell_type": "markdown",
   "id": "503c1691",
   "metadata": {},
   "source": [
    "We found that using the constant global variable results to no errors. Moreover, the type of the result is also assigned as ``Float64`` unlike the method using global constant which is ``Any``.\n",
    "\n",
    "## Named Parameter Variable\n",
    "Finally, we consider the method using a named parameter variable. For this implementation, we simply assign the value as a parameter for the function instead of using global variables."
   ]
  },
  {
   "cell_type": "code",
   "execution_count": 14,
   "id": "b881db51",
   "metadata": {},
   "outputs": [
    {
     "data": {
      "text/plain": [
       "par_raise_sum (generic function with 1 method)"
      ]
     },
     "execution_count": 14,
     "metadata": {},
     "output_type": "execute_result"
    }
   ],
   "source": [
    "# Named parameter variable par or function arguement\n",
    "function par_raise_sum(x::Vector; par = 2)\n",
    "    sum = zero(eltype(x))\n",
    "    for i in x\n",
    "        sum += i^par\n",
    "    end\n",
    "    return sum\n",
    "end\n"
   ]
  },
  {
   "cell_type": "markdown",
   "id": "9c10f2cb",
   "metadata": {},
   "source": [
    "Then, we benchmark the function for named parameter variable."
   ]
  },
  {
   "cell_type": "code",
   "execution_count": 15,
   "id": "79404e22",
   "metadata": {},
   "outputs": [
    {
     "data": {
      "text/plain": [
       "BenchmarkTools.Trial: 8658 samples with 1 evaluation.\n",
       " Range \u001b[90m(\u001b[39m\u001b[36m\u001b[1mmin\u001b[22m\u001b[39m … \u001b[35mmax\u001b[39m\u001b[90m):  \u001b[39m\u001b[36m\u001b[1m572.417 μs\u001b[22m\u001b[39m … \u001b[35m714.625 μs\u001b[39m  \u001b[90m┊\u001b[39m GC \u001b[90m(\u001b[39mmin … max\u001b[90m): \u001b[39m0.00% … 0.00%\n",
       " Time  \u001b[90m(\u001b[39m\u001b[34m\u001b[1mmedian\u001b[22m\u001b[39m\u001b[90m):     \u001b[39m\u001b[34m\u001b[1m572.959 μs               \u001b[22m\u001b[39m\u001b[90m┊\u001b[39m GC \u001b[90m(\u001b[39mmedian\u001b[90m):    \u001b[39m0.00%\n",
       " Time  \u001b[90m(\u001b[39m\u001b[32m\u001b[1mmean\u001b[22m\u001b[39m ± \u001b[32mσ\u001b[39m\u001b[90m):   \u001b[39m\u001b[32m\u001b[1m575.353 μs\u001b[22m\u001b[39m ± \u001b[32m  6.082 μs\u001b[39m  \u001b[90m┊\u001b[39m GC \u001b[90m(\u001b[39mmean ± σ\u001b[90m):  \u001b[39m0.00% ± 0.00%\n",
       "\n",
       "  \u001b[39m█\u001b[34m▄\u001b[39m\u001b[39m▃\u001b[39m▂\u001b[39m▁\u001b[39m▆\u001b[32m▂\u001b[39m\u001b[39m▁\u001b[39m▃\u001b[39m▂\u001b[39m▁\u001b[39m \u001b[39m \u001b[39m▁\u001b[39m▁\u001b[39m▁\u001b[39m \u001b[39m \u001b[39m \u001b[39m \u001b[39m \u001b[39m \u001b[39m \u001b[39m \u001b[39m \u001b[39m \u001b[39m \u001b[39m \u001b[39m \u001b[39m \u001b[39m \u001b[39m \u001b[39m \u001b[39m \u001b[39m \u001b[39m \u001b[39m \u001b[39m \u001b[39m \u001b[39m \u001b[39m \u001b[39m \u001b[39m \u001b[39m \u001b[39m \u001b[39m \u001b[39m \u001b[39m \u001b[39m \u001b[39m \u001b[39m \u001b[39m \u001b[39m \u001b[39m \u001b[39m \u001b[39m \u001b[39m \u001b[39m \u001b[39m \u001b[39m \u001b[39m \u001b[39m \u001b[39m▁\n",
       "  \u001b[39m█\u001b[34m█\u001b[39m\u001b[39m█\u001b[39m█\u001b[39m█\u001b[39m█\u001b[32m█\u001b[39m\u001b[39m█\u001b[39m█\u001b[39m█\u001b[39m█\u001b[39m█\u001b[39m█\u001b[39m█\u001b[39m█\u001b[39m█\u001b[39m█\u001b[39m█\u001b[39m█\u001b[39m█\u001b[39m█\u001b[39m▇\u001b[39m▇\u001b[39m▇\u001b[39m█\u001b[39m▆\u001b[39m▆\u001b[39m▆\u001b[39m▅\u001b[39m▅\u001b[39m▅\u001b[39m▆\u001b[39m▄\u001b[39m▅\u001b[39m▆\u001b[39m▅\u001b[39m▄\u001b[39m▄\u001b[39m▄\u001b[39m▄\u001b[39m▃\u001b[39m▄\u001b[39m▄\u001b[39m▅\u001b[39m▃\u001b[39m▅\u001b[39m▅\u001b[39m▄\u001b[39m▄\u001b[39m▅\u001b[39m▄\u001b[39m▃\u001b[39m▄\u001b[39m▄\u001b[39m▃\u001b[39m▄\u001b[39m▄\u001b[39m▃\u001b[39m▅\u001b[39m▅\u001b[39m▆\u001b[39m \u001b[39m█\n",
       "  572 μs\u001b[90m        \u001b[39m\u001b[90mHistogram: \u001b[39m\u001b[90m\u001b[1mlog(\u001b[22m\u001b[39m\u001b[90mfrequency\u001b[39m\u001b[90m\u001b[1m)\u001b[22m\u001b[39m\u001b[90m by time\u001b[39m        604 μs \u001b[0m\u001b[1m<\u001b[22m\n",
       "\n",
       " Memory estimate\u001b[90m: \u001b[39m\u001b[33m0 bytes\u001b[39m, allocs estimate\u001b[90m: \u001b[39m\u001b[33m0\u001b[39m."
      ]
     },
     "execution_count": 15,
     "metadata": {},
     "output_type": "execute_result"
    }
   ],
   "source": [
    "mark3 = @benchmark par_raise_sum($data)"
   ]
  },
  {
   "cell_type": "markdown",
   "id": "e06e92eb",
   "metadata": {},
   "source": [
    "We also check the function using ``@code_warntype``."
   ]
  },
  {
   "cell_type": "code",
   "execution_count": 16,
   "id": "ff897c87",
   "metadata": {},
   "outputs": [
    {
     "name": "stdout",
     "output_type": "stream",
     "text": [
      "MethodInstance for par_raise_sum(::Vector{Float64})\n",
      "  from par_raise_sum(x::Vector; par) in Main at In[14]:2\n",
      "Arguments\n",
      "  #self#\u001b[36m::Core.Const(par_raise_sum)\u001b[39m\n",
      "  x\u001b[36m::Vector{Float64}\u001b[39m\n",
      "Body\u001b[36m::Float64\u001b[39m\n",
      "\u001b[90m1 ─\u001b[39m %1 = Main.:(var\"#par_raise_sum#1\")(2, #self#, x)\u001b[36m::Float64\u001b[39m\n",
      "\u001b[90m└──\u001b[39m      return %1\n",
      "\n"
     ]
    }
   ],
   "source": [
    "@code_warntype par_raise_sum(data)"
   ]
  },
  {
   "cell_type": "markdown",
   "id": "7d51a59a",
   "metadata": {},
   "source": [
    "The output shows that there are no errors for using the named parameter variable method."
   ]
  },
  {
   "cell_type": "markdown",
   "id": "d1357231",
   "metadata": {},
   "source": [
    "## Parameter global variable\n",
    "We benchmark the global variable as a named parameter variable. "
   ]
  },
  {
   "cell_type": "code",
   "execution_count": 17,
   "id": "afe6d2cb",
   "metadata": {},
   "outputs": [
    {
     "data": {
      "text/plain": [
       "BenchmarkTools.Trial: 8562 samples with 1 evaluation.\n",
       " Range \u001b[90m(\u001b[39m\u001b[36m\u001b[1mmin\u001b[22m\u001b[39m … \u001b[35mmax\u001b[39m\u001b[90m):  \u001b[39m\u001b[36m\u001b[1m572.625 μs\u001b[22m\u001b[39m … \u001b[35m 1.591 ms\u001b[39m  \u001b[90m┊\u001b[39m GC \u001b[90m(\u001b[39mmin … max\u001b[90m): \u001b[39m0.00% … 0.00%\n",
       " Time  \u001b[90m(\u001b[39m\u001b[34m\u001b[1mmedian\u001b[22m\u001b[39m\u001b[90m):     \u001b[39m\u001b[34m\u001b[1m575.459 μs              \u001b[22m\u001b[39m\u001b[90m┊\u001b[39m GC \u001b[90m(\u001b[39mmedian\u001b[90m):    \u001b[39m0.00%\n",
       " Time  \u001b[90m(\u001b[39m\u001b[32m\u001b[1mmean\u001b[22m\u001b[39m ± \u001b[32mσ\u001b[39m\u001b[90m):   \u001b[39m\u001b[32m\u001b[1m582.136 μs\u001b[22m\u001b[39m ± \u001b[32m28.744 μs\u001b[39m  \u001b[90m┊\u001b[39m GC \u001b[90m(\u001b[39mmean ± σ\u001b[90m):  \u001b[39m0.00% ± 0.00%\n",
       "\n",
       "  \u001b[39m█\u001b[39m▄\u001b[34m▆\u001b[39m\u001b[39m▄\u001b[39m▃\u001b[39m▃\u001b[39m▃\u001b[39m▄\u001b[32m▃\u001b[39m\u001b[39m▄\u001b[39m▃\u001b[39m▃\u001b[39m▃\u001b[39m▂\u001b[39m▂\u001b[39m▂\u001b[39m▂\u001b[39m▂\u001b[39m▁\u001b[39m▁\u001b[39m▁\u001b[39m▁\u001b[39m \u001b[39m▁\u001b[39m▁\u001b[39m▂\u001b[39m▁\u001b[39m \u001b[39m \u001b[39m \u001b[39m \u001b[39m \u001b[39m \u001b[39m \u001b[39m \u001b[39m \u001b[39m \u001b[39m \u001b[39m \u001b[39m \u001b[39m \u001b[39m \u001b[39m \u001b[39m \u001b[39m \u001b[39m \u001b[39m \u001b[39m \u001b[39m \u001b[39m \u001b[39m \u001b[39m \u001b[39m \u001b[39m \u001b[39m \u001b[39m \u001b[39m \u001b[39m \u001b[39m \u001b[39m \u001b[39m \u001b[39m▂\n",
       "  \u001b[39m█\u001b[39m█\u001b[34m█\u001b[39m\u001b[39m█\u001b[39m█\u001b[39m█\u001b[39m█\u001b[39m█\u001b[32m█\u001b[39m\u001b[39m█\u001b[39m█\u001b[39m█\u001b[39m█\u001b[39m█\u001b[39m█\u001b[39m█\u001b[39m█\u001b[39m█\u001b[39m█\u001b[39m█\u001b[39m█\u001b[39m█\u001b[39m█\u001b[39m█\u001b[39m█\u001b[39m█\u001b[39m█\u001b[39m█\u001b[39m█\u001b[39m█\u001b[39m▇\u001b[39m█\u001b[39m█\u001b[39m█\u001b[39m▇\u001b[39m▇\u001b[39m▆\u001b[39m▆\u001b[39m▆\u001b[39m▆\u001b[39m▆\u001b[39m▇\u001b[39m▆\u001b[39m▅\u001b[39m▅\u001b[39m▅\u001b[39m▅\u001b[39m▆\u001b[39m▄\u001b[39m▅\u001b[39m▅\u001b[39m▅\u001b[39m▄\u001b[39m▃\u001b[39m▅\u001b[39m▅\u001b[39m▄\u001b[39m▁\u001b[39m▅\u001b[39m▆\u001b[39m \u001b[39m█\n",
       "  573 μs\u001b[90m        \u001b[39m\u001b[90mHistogram: \u001b[39m\u001b[90m\u001b[1mlog(\u001b[22m\u001b[39m\u001b[90mfrequency\u001b[39m\u001b[90m\u001b[1m)\u001b[22m\u001b[39m\u001b[90m by time\u001b[39m       646 μs \u001b[0m\u001b[1m<\u001b[22m\n",
       "\n",
       " Memory estimate\u001b[90m: \u001b[39m\u001b[33m48 bytes\u001b[39m, allocs estimate\u001b[90m: \u001b[39m\u001b[33m3\u001b[39m."
      ]
     },
     "execution_count": 17,
     "metadata": {},
     "output_type": "execute_result"
    }
   ],
   "source": [
    "mark4 = @benchmark par_raise_sum($data, par = p)"
   ]
  },
  {
   "cell_type": "markdown",
   "id": "d5e01b78",
   "metadata": {},
   "source": [
    "## Parameter constant global variable\n",
    "Lastly, we check the method using the constant global variable as a parameter variable."
   ]
  },
  {
   "cell_type": "code",
   "execution_count": 18,
   "id": "656a785c",
   "metadata": {},
   "outputs": [
    {
     "data": {
      "text/plain": [
       "BenchmarkTools.Trial: 8644 samples with 1 evaluation.\n",
       " Range \u001b[90m(\u001b[39m\u001b[36m\u001b[1mmin\u001b[22m\u001b[39m … \u001b[35mmax\u001b[39m\u001b[90m):  \u001b[39m\u001b[36m\u001b[1m572.416 μs\u001b[22m\u001b[39m … \u001b[35m697.291 μs\u001b[39m  \u001b[90m┊\u001b[39m GC \u001b[90m(\u001b[39mmin … max\u001b[90m): \u001b[39m0.00% … 0.00%\n",
       " Time  \u001b[90m(\u001b[39m\u001b[34m\u001b[1mmedian\u001b[22m\u001b[39m\u001b[90m):     \u001b[39m\u001b[34m\u001b[1m572.958 μs               \u001b[22m\u001b[39m\u001b[90m┊\u001b[39m GC \u001b[90m(\u001b[39mmedian\u001b[90m):    \u001b[39m0.00%\n",
       " Time  \u001b[90m(\u001b[39m\u001b[32m\u001b[1mmean\u001b[22m\u001b[39m ± \u001b[32mσ\u001b[39m\u001b[90m):   \u001b[39m\u001b[32m\u001b[1m576.245 μs\u001b[22m\u001b[39m ± \u001b[32m  8.239 μs\u001b[39m  \u001b[90m┊\u001b[39m GC \u001b[90m(\u001b[39mmean ± σ\u001b[90m):  \u001b[39m0.00% ± 0.00%\n",
       "\n",
       "  \u001b[39m█\u001b[34m▃\u001b[39m\u001b[39m▂\u001b[39m▁\u001b[39m▆\u001b[39m▃\u001b[32m▂\u001b[39m\u001b[39m▃\u001b[39m \u001b[39m \u001b[39m▁\u001b[39m▁\u001b[39m▁\u001b[39m \u001b[39m \u001b[39m▁\u001b[39m▁\u001b[39m \u001b[39m \u001b[39m \u001b[39m \u001b[39m \u001b[39m \u001b[39m \u001b[39m \u001b[39m \u001b[39m \u001b[39m \u001b[39m \u001b[39m \u001b[39m \u001b[39m \u001b[39m \u001b[39m \u001b[39m \u001b[39m \u001b[39m \u001b[39m \u001b[39m \u001b[39m \u001b[39m \u001b[39m \u001b[39m \u001b[39m \u001b[39m \u001b[39m \u001b[39m \u001b[39m \u001b[39m \u001b[39m \u001b[39m \u001b[39m \u001b[39m \u001b[39m \u001b[39m \u001b[39m \u001b[39m \u001b[39m \u001b[39m \u001b[39m \u001b[39m \u001b[39m \u001b[39m▁\n",
       "  \u001b[39m█\u001b[34m█\u001b[39m\u001b[39m█\u001b[39m█\u001b[39m█\u001b[39m█\u001b[32m█\u001b[39m\u001b[39m█\u001b[39m█\u001b[39m█\u001b[39m█\u001b[39m█\u001b[39m█\u001b[39m█\u001b[39m█\u001b[39m█\u001b[39m█\u001b[39m█\u001b[39m▆\u001b[39m▇\u001b[39m▇\u001b[39m▆\u001b[39m▇\u001b[39m▆\u001b[39m▇\u001b[39m▆\u001b[39m▆\u001b[39m▆\u001b[39m▆\u001b[39m▅\u001b[39m▅\u001b[39m▅\u001b[39m▄\u001b[39m▆\u001b[39m▅\u001b[39m▆\u001b[39m▅\u001b[39m▅\u001b[39m▅\u001b[39m▅\u001b[39m▅\u001b[39m▅\u001b[39m▅\u001b[39m▆\u001b[39m▅\u001b[39m▄\u001b[39m▄\u001b[39m▅\u001b[39m▅\u001b[39m▆\u001b[39m▇\u001b[39m█\u001b[39m▇\u001b[39m▇\u001b[39m▆\u001b[39m▆\u001b[39m▆\u001b[39m▅\u001b[39m▅\u001b[39m▅\u001b[39m▅\u001b[39m \u001b[39m█\n",
       "  572 μs\u001b[90m        \u001b[39m\u001b[90mHistogram: \u001b[39m\u001b[90m\u001b[1mlog(\u001b[22m\u001b[39m\u001b[90mfrequency\u001b[39m\u001b[90m\u001b[1m)\u001b[22m\u001b[39m\u001b[90m by time\u001b[39m        610 μs \u001b[0m\u001b[1m<\u001b[22m\n",
       "\n",
       " Memory estimate\u001b[90m: \u001b[39m\u001b[33m0 bytes\u001b[39m, allocs estimate\u001b[90m: \u001b[39m\u001b[33m0\u001b[39m."
      ]
     },
     "execution_count": 18,
     "metadata": {},
     "output_type": "execute_result"
    }
   ],
   "source": [
    "mark5 = @benchmark par_raise_sum($data, par = pconst)"
   ]
  },
  {
   "cell_type": "markdown",
   "id": "67ac6393",
   "metadata": {},
   "source": [
    "We are done benchmarking the functions for different methods. We now proceed on comparing the time it takes to evaluate the functions by including the ratio of the time for the global variable and the other methods."
   ]
  },
  {
   "cell_type": "code",
   "execution_count": 19,
   "id": "77de49f8",
   "metadata": {},
   "outputs": [
    {
     "name": "stdout",
     "output_type": "stream",
     "text": [
      "\u001b[1m5×2 DataFrame\u001b[0m\n",
      "\u001b[1m Row \u001b[0m│\u001b[1m Method                 \u001b[0m\u001b[1m Speedup \u001b[0m\n",
      "     │\u001b[90m String                 \u001b[0m\u001b[90m Float64 \u001b[0m\n",
      "─────┼─────────────────────────────────\n",
      "   1 │ Global                   1.0\n",
      "   2 │ Constant                12.5086\n",
      "   3 │ Parametrized value      12.5068\n",
      "   4 │ Parametrized global     12.4525\n",
      "   5 │ Parametrized const.imp  12.5068"
     ]
    }
   ],
   "source": [
    "speedup1 = median(mark1.times)/median(mark1.times)\n",
    "speedup2 = median(mark1.times)/median(mark2.times)\n",
    "speedup3 = median(mark1.times)/median(mark3.times)\n",
    "speedup3a = median(mark1.times)/median(mark4.times)\n",
    "speedup3b = median(mark1.times)/median(mark5.times)\n",
    "\n",
    "table = DataFrame(\"Method\"=>[\"Global\"], \"Speedup\" => [speedup1]);\n",
    "push!(table, [\"Constant\", speedup2]);\n",
    "push!(table, [\"Parametrized value\", speedup3]);\n",
    "push!(table, [\"Parametrized global\", speedup3a]);\n",
    "push!(table, [\"Parametrized const.imp\", speedup3b]);\n",
    "\n",
    "print(table)"
   ]
  },
  {
   "cell_type": "markdown",
   "id": "110569fa",
   "metadata": {},
   "source": [
    "Based on the results of the table, the use of the constant global variable is the fastest method in evaluating the function. Overall, the slowest is the global variable which as we previously mentioned results to an ``Any`` type for the result. Note that from the table, we found that all methods are approximately 12.5 times faster than using the global variable."
   ]
  },
  {
   "cell_type": "markdown",
   "id": "31eb6ed0",
   "metadata": {},
   "source": [
    "# KR2\n",
    "Replicated the naive implementation of the polynomial in the textbook."
   ]
  },
  {
   "cell_type": "markdown",
   "id": "5c254da8",
   "metadata": {},
   "source": [
    "The expression for a polynomial as given in the textbook is\n",
    "\\begin{equation}\\label{p}\n",
    "    p(x) = \\sum_{i=0}^n a_ix^i.\n",
    "\\end{equation}\n",
    "Since the key result 2 aims to replicate the implementation of the polynomial in the textbook, we replicate the function ``poly_naive()`` in the textbook. For here, we refer to it as ``naive_poly()`` due to personal preference."
   ]
  },
  {
   "cell_type": "code",
   "execution_count": 20,
   "id": "57a7e9e6",
   "metadata": {},
   "outputs": [
    {
     "data": {
      "text/plain": [
       "naive_poly (generic function with 1 method)"
      ]
     },
     "execution_count": 20,
     "metadata": {},
     "output_type": "execute_result"
    }
   ],
   "source": [
    "function naive_poly(x, a...)\n",
    "    p = zero(x)\n",
    "    for i in eachindex(a)\n",
    "        p = p + a[i]*x^(i-1) # Equation of the polynomial\n",
    "    end\n",
    "    return p\n",
    "end"
   ]
  },
  {
   "cell_type": "markdown",
   "id": "44f0e543",
   "metadata": {},
   "source": [
    "Just like in the textbook, we try to compute the function\n",
    "\\begin{equation}\\label{f}\n",
    "    f(x) = 1 + 2x+3x^2+4x^3+5x^4+6x^5+7x^6+8x^7+9x^8\n",
    "\\end{equation}\n",
    "which is referred to as ``f_naive(x)`` for the naive implementation of the function."
   ]
  },
  {
   "cell_type": "code",
   "execution_count": 21,
   "id": "da56084e",
   "metadata": {},
   "outputs": [
    {
     "data": {
      "text/plain": [
       "f_naive (generic function with 1 method)"
      ]
     },
     "execution_count": 21,
     "metadata": {},
     "output_type": "execute_result"
    }
   ],
   "source": [
    "f_naive(x) = naive_poly(x,1,2,3,4,5,6,7,8,9)"
   ]
  },
  {
   "cell_type": "markdown",
   "id": "93052e14",
   "metadata": {},
   "source": [
    "Then, we benchmarked the function for a given value of ``x`` to compare with the other methods in KR5."
   ]
  },
  {
   "cell_type": "code",
   "execution_count": 22,
   "id": "8fd7255c",
   "metadata": {},
   "outputs": [
    {
     "data": {
      "text/plain": [
       "BenchmarkTools.Trial: 10000 samples with 995 evaluations.\n",
       " Range \u001b[90m(\u001b[39m\u001b[36m\u001b[1mmin\u001b[22m\u001b[39m … \u001b[35mmax\u001b[39m\u001b[90m):  \u001b[39m\u001b[36m\u001b[1m29.815 ns\u001b[22m\u001b[39m … \u001b[35m57.915 ns\u001b[39m  \u001b[90m┊\u001b[39m GC \u001b[90m(\u001b[39mmin … max\u001b[90m): \u001b[39m0.00% … 0.00%\n",
       " Time  \u001b[90m(\u001b[39m\u001b[34m\u001b[1mmedian\u001b[22m\u001b[39m\u001b[90m):     \u001b[39m\u001b[34m\u001b[1m30.570 ns              \u001b[22m\u001b[39m\u001b[90m┊\u001b[39m GC \u001b[90m(\u001b[39mmedian\u001b[90m):    \u001b[39m0.00%\n",
       " Time  \u001b[90m(\u001b[39m\u001b[32m\u001b[1mmean\u001b[22m\u001b[39m ± \u001b[32mσ\u001b[39m\u001b[90m):   \u001b[39m\u001b[32m\u001b[1m30.603 ns\u001b[22m\u001b[39m ± \u001b[32m 0.895 ns\u001b[39m  \u001b[90m┊\u001b[39m GC \u001b[90m(\u001b[39mmean ± σ\u001b[90m):  \u001b[39m0.00% ± 0.00%\n",
       "\n",
       "  \u001b[39m \u001b[39m▄\u001b[39m▂\u001b[39m \u001b[39m \u001b[39m \u001b[39m \u001b[39m \u001b[39m \u001b[39m \u001b[39m \u001b[39m \u001b[39m \u001b[39m \u001b[39m \u001b[39m \u001b[34m \u001b[39m\u001b[32m \u001b[39m\u001b[39m \u001b[39m \u001b[39m \u001b[39m \u001b[39m \u001b[39m \u001b[39m \u001b[39m \u001b[39m \u001b[39m \u001b[39m▁\u001b[39m█\u001b[39m \u001b[39m \u001b[39m \u001b[39m \u001b[39m \u001b[39m \u001b[39m \u001b[39m \u001b[39m \u001b[39m \u001b[39m \u001b[39m \u001b[39m \u001b[39m \u001b[39m \u001b[39m \u001b[39m \u001b[39m \u001b[39m \u001b[39m \u001b[39m \u001b[39m \u001b[39m \u001b[39m \u001b[39m \u001b[39m \u001b[39m \u001b[39m \u001b[39m \u001b[39m \u001b[39m \n",
       "  \u001b[39m▆\u001b[39m█\u001b[39m█\u001b[39m▅\u001b[39m▃\u001b[39m▂\u001b[39m▂\u001b[39m▂\u001b[39m▂\u001b[39m▁\u001b[39m▂\u001b[39m▂\u001b[39m▂\u001b[39m▂\u001b[39m▂\u001b[39m▂\u001b[34m▂\u001b[39m\u001b[32m▂\u001b[39m\u001b[39m▂\u001b[39m▂\u001b[39m▂\u001b[39m▂\u001b[39m▂\u001b[39m▂\u001b[39m▂\u001b[39m▂\u001b[39m▂\u001b[39m▄\u001b[39m█\u001b[39m█\u001b[39m▃\u001b[39m▃\u001b[39m▂\u001b[39m▂\u001b[39m▂\u001b[39m▂\u001b[39m▂\u001b[39m▂\u001b[39m▂\u001b[39m▂\u001b[39m▂\u001b[39m▂\u001b[39m▂\u001b[39m▂\u001b[39m▂\u001b[39m▂\u001b[39m▂\u001b[39m▂\u001b[39m▂\u001b[39m▂\u001b[39m▁\u001b[39m▁\u001b[39m▂\u001b[39m▁\u001b[39m▁\u001b[39m▁\u001b[39m▂\u001b[39m▁\u001b[39m▂\u001b[39m \u001b[39m▃\n",
       "  29.8 ns\u001b[90m         Histogram: frequency by time\u001b[39m        32.6 ns \u001b[0m\u001b[1m<\u001b[22m\n",
       "\n",
       " Memory estimate\u001b[90m: \u001b[39m\u001b[33m0 bytes\u001b[39m, allocs estimate\u001b[90m: \u001b[39m\u001b[33m0\u001b[39m."
      ]
     },
     "execution_count": 22,
     "metadata": {},
     "output_type": "execute_result"
    }
   ],
   "source": [
    "x = 8.5\n",
    "markp0 = @benchmark f_naive($x)"
   ]
  },
  {
   "cell_type": "markdown",
   "id": "289b78f9",
   "metadata": {},
   "source": [
    "# KR3\n",
    "Replicated the naive implementation of the Horner's method for the same polynomial."
   ]
  },
  {
   "cell_type": "markdown",
   "id": "7d5e8ea4",
   "metadata": {},
   "source": [
    "Horner's method implements the recursive relation\n",
    "\\begin{gather}\n",
    "b_n = a_n\\\\\n",
    "b_{n-1} = a_{n-1}+b_n x\\label{req}\\\\\n",
    "b_{n-2} = a_{n-2} + b_{n-1} x\\\\\n",
    "\\vdots\\nonumber\\\\\n",
    "b_0 = a_0 +b_1 x\n",
    "\\end{gather}\n",
    "where the polynomial $p(x)$ is given by $b_0$. Thus, we update the value of $b$ until $n=0$ or $n'=1$ in Julia since Julia starts at 1.\n",
    "\n",
    "Note that since we are asked to replicate the Horner's method, the function is given below as based on the textbook. Additionally, we refer to it as ``horner_poly()`` instead of ``poly_horner()`` due to personal preference."
   ]
  },
  {
   "cell_type": "code",
   "execution_count": 23,
   "id": "fe4057f2",
   "metadata": {},
   "outputs": [
    {
     "data": {
      "text/plain": [
       "horner_poly (generic function with 1 method)"
      ]
     },
     "execution_count": 23,
     "metadata": {},
     "output_type": "execute_result"
    }
   ],
   "source": [
    "function horner_poly(x, a...)\n",
    "    b = zero(x)\n",
    "    for i in reverse(eachindex(a))\n",
    "        b = a[i]+b*x\n",
    "    end\n",
    "    return b\n",
    "end"
   ]
  },
  {
   "cell_type": "markdown",
   "id": "d21e4307",
   "metadata": {},
   "source": [
    "Next, we evaluate Eq. \\eqref{f} using the Horner's method."
   ]
  },
  {
   "cell_type": "code",
   "execution_count": 24,
   "id": "4bc780a7",
   "metadata": {},
   "outputs": [
    {
     "data": {
      "text/plain": [
       "f_horner (generic function with 1 method)"
      ]
     },
     "execution_count": 24,
     "metadata": {},
     "output_type": "execute_result"
    }
   ],
   "source": [
    "f_horner(x) = horner_poly(x, 1,2,3,4,5,6,7,8,9)"
   ]
  },
  {
   "cell_type": "markdown",
   "id": "00b10c60",
   "metadata": {},
   "source": [
    "Then, we get the benchmark for the Horner's method to be used in KR5."
   ]
  },
  {
   "cell_type": "code",
   "execution_count": 25,
   "id": "64f5295f",
   "metadata": {},
   "outputs": [
    {
     "data": {
      "text/plain": [
       "BenchmarkTools.Trial: 10000 samples with 1000 evaluations.\n",
       " Range \u001b[90m(\u001b[39m\u001b[36m\u001b[1mmin\u001b[22m\u001b[39m … \u001b[35mmax\u001b[39m\u001b[90m):  \u001b[39m\u001b[36m\u001b[1m2.458 ns\u001b[22m\u001b[39m … \u001b[35m13.041 ns\u001b[39m  \u001b[90m┊\u001b[39m GC \u001b[90m(\u001b[39mmin … max\u001b[90m): \u001b[39m0.00% … 0.00%\n",
       " Time  \u001b[90m(\u001b[39m\u001b[34m\u001b[1mmedian\u001b[22m\u001b[39m\u001b[90m):     \u001b[39m\u001b[34m\u001b[1m2.583 ns              \u001b[22m\u001b[39m\u001b[90m┊\u001b[39m GC \u001b[90m(\u001b[39mmedian\u001b[90m):    \u001b[39m0.00%\n",
       " Time  \u001b[90m(\u001b[39m\u001b[32m\u001b[1mmean\u001b[22m\u001b[39m ± \u001b[32mσ\u001b[39m\u001b[90m):   \u001b[39m\u001b[32m\u001b[1m2.572 ns\u001b[22m\u001b[39m ± \u001b[32m 0.132 ns\u001b[39m  \u001b[90m┊\u001b[39m GC \u001b[90m(\u001b[39mmean ± σ\u001b[90m):  \u001b[39m0.00% ± 0.00%\n",
       "\n",
       "  \u001b[39m \u001b[39m \u001b[39m \u001b[39m \u001b[39m \u001b[39m \u001b[39m \u001b[39m \u001b[39m \u001b[39m \u001b[39m \u001b[39m▁\u001b[39m \u001b[39m \u001b[39m \u001b[39m \u001b[39m \u001b[39m \u001b[39m \u001b[39m \u001b[39m \u001b[39m \u001b[39m \u001b[39m█\u001b[39m \u001b[39m \u001b[39m \u001b[39m \u001b[39m \u001b[39m \u001b[39m \u001b[39m \u001b[32m \u001b[39m\u001b[39m \u001b[39m█\u001b[34m▇\u001b[39m\u001b[39m \u001b[39m \u001b[39m \u001b[39m \u001b[39m \u001b[39m \u001b[39m \u001b[39m \u001b[39m \u001b[39m \u001b[39m▃\u001b[39m \u001b[39m \u001b[39m \u001b[39m \u001b[39m \u001b[39m \u001b[39m \u001b[39m \u001b[39m \u001b[39m \u001b[39m \u001b[39m \u001b[39m▂\n",
       "  \u001b[39m▄\u001b[39m▁\u001b[39m▁\u001b[39m▁\u001b[39m▁\u001b[39m▁\u001b[39m▁\u001b[39m▁\u001b[39m▁\u001b[39m▁\u001b[39m▁\u001b[39m█\u001b[39m▁\u001b[39m▁\u001b[39m▁\u001b[39m▁\u001b[39m▁\u001b[39m▁\u001b[39m▁\u001b[39m▁\u001b[39m▁\u001b[39m▁\u001b[39m▁\u001b[39m█\u001b[39m▁\u001b[39m▁\u001b[39m▁\u001b[39m▁\u001b[39m▁\u001b[39m▁\u001b[39m▁\u001b[39m▁\u001b[32m▁\u001b[39m\u001b[39m▁\u001b[39m█\u001b[34m█\u001b[39m\u001b[39m▁\u001b[39m▁\u001b[39m▁\u001b[39m▁\u001b[39m▁\u001b[39m▁\u001b[39m▁\u001b[39m▁\u001b[39m▁\u001b[39m▁\u001b[39m█\u001b[39m▁\u001b[39m▁\u001b[39m▁\u001b[39m▁\u001b[39m▁\u001b[39m▁\u001b[39m▁\u001b[39m▁\u001b[39m▁\u001b[39m▁\u001b[39m█\u001b[39m \u001b[39m█\n",
       "  2.46 ns\u001b[90m      \u001b[39m\u001b[90mHistogram: \u001b[39m\u001b[90m\u001b[1mlog(\u001b[22m\u001b[39m\u001b[90mfrequency\u001b[39m\u001b[90m\u001b[1m)\u001b[22m\u001b[39m\u001b[90m by time\u001b[39m     2.67 ns \u001b[0m\u001b[1m<\u001b[22m\n",
       "\n",
       " Memory estimate\u001b[90m: \u001b[39m\u001b[33m0 bytes\u001b[39m, allocs estimate\u001b[90m: \u001b[39m\u001b[33m0\u001b[39m."
      ]
     },
     "execution_count": 25,
     "metadata": {},
     "output_type": "execute_result"
    }
   ],
   "source": [
    "markp1 = @benchmark f_horner($x)"
   ]
  },
  {
   "cell_type": "markdown",
   "id": "8c6d15ea",
   "metadata": {},
   "source": [
    "# KR4\n",
    "Replicated the macro implementation of the Horner's method of the same polynomial."
   ]
  },
  {
   "cell_type": "markdown",
   "id": "db5ef8a9",
   "metadata": {},
   "source": [
    "The macro implementation of the Horner's method uses the function ``muladd``. To get a better idea on what it does we use ``?``."
   ]
  },
  {
   "cell_type": "code",
   "execution_count": 26,
   "id": "e1ba3509",
   "metadata": {},
   "outputs": [
    {
     "name": "stdout",
     "output_type": "stream",
     "text": [
      "search: \u001b[0m\u001b[1mm\u001b[22m\u001b[0m\u001b[1mu\u001b[22m\u001b[0m\u001b[1ml\u001b[22m\u001b[0m\u001b[1ma\u001b[22m\u001b[0m\u001b[1md\u001b[22m\u001b[0m\u001b[1md\u001b[22m\n",
      "\n"
     ]
    },
    {
     "data": {
      "text/latex": [
       "\\begin{verbatim}\n",
       "muladd(x, y, z)\n",
       "\\end{verbatim}\n",
       "Combined multiply-add: computes \\texttt{x*y+z}, but allowing the add and multiply to be merged with each other or with surrounding operations for performance. For example, this may be implemented as an \\href{@ref}{\\texttt{fma}} if the hardware supports it efficiently. The result can be different on different machines and can also be different on the same machine due to constant propagation or other optimizations. See \\href{@ref}{\\texttt{fma}}.\n",
       "\n",
       "\\section{Examples}\n",
       "\\begin{verbatim}\n",
       "julia> muladd(3, 2, 1)\n",
       "7\n",
       "\n",
       "julia> 3 * 2 + 1\n",
       "7\n",
       "\\end{verbatim}\n",
       "\\rule{\\textwidth}{1pt}\n",
       "\\begin{verbatim}\n",
       "muladd(A, y, z)\n",
       "\\end{verbatim}\n",
       "Combined multiply-add, \\texttt{A*y .+ z}, for matrix-matrix or matrix-vector multiplication. The result is always the same size as \\texttt{A*y}, but \\texttt{z} may be smaller, or a scalar.\n",
       "\n",
       "\\begin{quote}\n",
       "\\textbf{compat}\n",
       "\n",
       "Julia 1.6\n",
       "\n",
       "These methods require Julia 1.6 or later.\n",
       "\n",
       "\\end{quote}\n",
       "\\section{Examples}\n",
       "\\begin{verbatim}\n",
       "julia> A=[1.0 2.0; 3.0 4.0]; B=[1.0 1.0; 1.0 1.0]; z=[0, 100];\n",
       "\n",
       "julia> muladd(A, B, z)\n",
       "2×2 Matrix{Float64}:\n",
       "   3.0    3.0\n",
       " 107.0  107.0\n",
       "\\end{verbatim}\n"
      ],
      "text/markdown": [
       "```\n",
       "muladd(x, y, z)\n",
       "```\n",
       "\n",
       "Combined multiply-add: computes `x*y+z`, but allowing the add and multiply to be merged with each other or with surrounding operations for performance. For example, this may be implemented as an [`fma`](@ref) if the hardware supports it efficiently. The result can be different on different machines and can also be different on the same machine due to constant propagation or other optimizations. See [`fma`](@ref).\n",
       "\n",
       "# Examples\n",
       "\n",
       "```jldoctest\n",
       "julia> muladd(3, 2, 1)\n",
       "7\n",
       "\n",
       "julia> 3 * 2 + 1\n",
       "7\n",
       "```\n",
       "\n",
       "---\n",
       "\n",
       "```\n",
       "muladd(A, y, z)\n",
       "```\n",
       "\n",
       "Combined multiply-add, `A*y .+ z`, for matrix-matrix or matrix-vector multiplication. The result is always the same size as `A*y`, but `z` may be smaller, or a scalar.\n",
       "\n",
       "!!! compat \"Julia 1.6\"\n",
       "    These methods require Julia 1.6 or later.\n",
       "\n",
       "\n",
       "# Examples\n",
       "\n",
       "```jldoctest\n",
       "julia> A=[1.0 2.0; 3.0 4.0]; B=[1.0 1.0; 1.0 1.0]; z=[0, 100];\n",
       "\n",
       "julia> muladd(A, B, z)\n",
       "2×2 Matrix{Float64}:\n",
       "   3.0    3.0\n",
       " 107.0  107.0\n",
       "```\n"
      ],
      "text/plain": [
       "\u001b[36m  muladd(x, y, z)\u001b[39m\n",
       "\n",
       "  Combined multiply-add: computes \u001b[36mx*y+z\u001b[39m, but allowing the add and multiply to\n",
       "  be merged with each other or with surrounding operations for performance.\n",
       "  For example, this may be implemented as an \u001b[36mfma\u001b[39m if the hardware supports it\n",
       "  efficiently. The result can be different on different machines and can also\n",
       "  be different on the same machine due to constant propagation or other\n",
       "  optimizations. See \u001b[36mfma\u001b[39m.\n",
       "\n",
       "\u001b[1m  Examples\u001b[22m\n",
       "\u001b[1m  ≡≡≡≡≡≡≡≡≡≡\u001b[22m\n",
       "\n",
       "\u001b[36m  julia> muladd(3, 2, 1)\u001b[39m\n",
       "\u001b[36m  7\u001b[39m\n",
       "\u001b[36m  \u001b[39m\n",
       "\u001b[36m  julia> 3 * 2 + 1\u001b[39m\n",
       "\u001b[36m  7\u001b[39m\n",
       "\n",
       "  ────────────────────────────────────────────────────────────────────────────\n",
       "\n",
       "\u001b[36m  muladd(A, y, z)\u001b[39m\n",
       "\n",
       "  Combined multiply-add, \u001b[36mA*y .+ z\u001b[39m, for matrix-matrix or matrix-vector\n",
       "  multiplication. The result is always the same size as \u001b[36mA*y\u001b[39m, but \u001b[36mz\u001b[39m may be\n",
       "  smaller, or a scalar.\n",
       "\n",
       "\u001b[39m\u001b[1m  │ \u001b[22m\u001b[39m\u001b[1mJulia 1.6\u001b[22m\n",
       "\u001b[39m\u001b[1m  │\u001b[22m\n",
       "\u001b[39m\u001b[1m  │\u001b[22m  These methods require Julia 1.6 or later.\n",
       "\n",
       "\u001b[1m  Examples\u001b[22m\n",
       "\u001b[1m  ≡≡≡≡≡≡≡≡≡≡\u001b[22m\n",
       "\n",
       "\u001b[36m  julia> A=[1.0 2.0; 3.0 4.0]; B=[1.0 1.0; 1.0 1.0]; z=[0, 100];\u001b[39m\n",
       "\u001b[36m  \u001b[39m\n",
       "\u001b[36m  julia> muladd(A, B, z)\u001b[39m\n",
       "\u001b[36m  2×2 Matrix{Float64}:\u001b[39m\n",
       "\u001b[36m     3.0    3.0\u001b[39m\n",
       "\u001b[36m   107.0  107.0\u001b[39m"
      ]
     },
     "execution_count": 26,
     "metadata": {},
     "output_type": "execute_result"
    }
   ],
   "source": [
    "? muladd"
   ]
  },
  {
   "cell_type": "markdown",
   "id": "463f1dba",
   "metadata": {},
   "source": [
    "From the discussion of what ``muladd(a, b,c)``, we know that this multiplies ``a`` and ``b``, then add it with ``c``\n",
    "\\begin{equation}\n",
    "a*b+c.\n",
    "\\end{equation}\n",
    "Comparing this with Eq. \\eqref{req}, we can implement the Horner's method by setting ``muladd(b,x,a)``.\n",
    "Note that below is a replication of the macro implementation of the Horner's method."
   ]
  },
  {
   "cell_type": "code",
   "execution_count": 27,
   "id": "d7c8710a",
   "metadata": {},
   "outputs": [
    {
     "data": {
      "text/plain": [
       "@horner (macro with 1 method)"
      ]
     },
     "execution_count": 27,
     "metadata": {},
     "output_type": "execute_result"
    }
   ],
   "source": [
    "macro horner(x, p...)\n",
    "    ex = esc(p[end])\n",
    "    for i in length(p)-1:-1:1\n",
    "        ex = :(muladd(t, $ex, $(esc(p[i]))))\n",
    "    end\n",
    "    Expr(:block, :(t=$(esc(x))), ex)\n",
    "end"
   ]
  },
  {
   "cell_type": "markdown",
   "id": "0f93fda7",
   "metadata": {},
   "source": [
    "Just like the rest of the key results, we evaluate Eq. \\eqref{f} and get its benchmark for KR5."
   ]
  },
  {
   "cell_type": "code",
   "execution_count": 28,
   "id": "a59c1148",
   "metadata": {},
   "outputs": [
    {
     "data": {
      "text/plain": [
       "f_horner_macro (generic function with 1 method)"
      ]
     },
     "execution_count": 28,
     "metadata": {},
     "output_type": "execute_result"
    }
   ],
   "source": [
    "f_horner_macro(x) = @horner(x, 1,2,3,4,5,6,7,8,9)"
   ]
  },
  {
   "cell_type": "code",
   "execution_count": 29,
   "id": "9fab10a3",
   "metadata": {},
   "outputs": [
    {
     "data": {
      "text/plain": [
       "BenchmarkTools.Trial: 10000 samples with 1000 evaluations.\n",
       " Range \u001b[90m(\u001b[39m\u001b[36m\u001b[1mmin\u001b[22m\u001b[39m … \u001b[35mmax\u001b[39m\u001b[90m):  \u001b[39m\u001b[36m\u001b[1m2.458 ns\u001b[22m\u001b[39m … \u001b[35m17.250 ns\u001b[39m  \u001b[90m┊\u001b[39m GC \u001b[90m(\u001b[39mmin … max\u001b[90m): \u001b[39m0.00% … 0.00%\n",
       " Time  \u001b[90m(\u001b[39m\u001b[34m\u001b[1mmedian\u001b[22m\u001b[39m\u001b[90m):     \u001b[39m\u001b[34m\u001b[1m2.542 ns              \u001b[22m\u001b[39m\u001b[90m┊\u001b[39m GC \u001b[90m(\u001b[39mmedian\u001b[90m):    \u001b[39m0.00%\n",
       " Time  \u001b[90m(\u001b[39m\u001b[32m\u001b[1mmean\u001b[22m\u001b[39m ± \u001b[32mσ\u001b[39m\u001b[90m):   \u001b[39m\u001b[32m\u001b[1m2.564 ns\u001b[22m\u001b[39m ± \u001b[32m 0.198 ns\u001b[39m  \u001b[90m┊\u001b[39m GC \u001b[90m(\u001b[39mmean ± σ\u001b[90m):  \u001b[39m0.00% ± 0.00%\n",
       "\n",
       "  \u001b[39m \u001b[39m \u001b[39m \u001b[39m \u001b[39m \u001b[39m \u001b[39m \u001b[39m \u001b[39m \u001b[39m \u001b[39m \u001b[39m▂\u001b[39m \u001b[39m \u001b[39m \u001b[39m \u001b[39m \u001b[39m \u001b[39m \u001b[39m \u001b[39m \u001b[39m \u001b[39m \u001b[34m█\u001b[39m\u001b[39m \u001b[39m \u001b[39m \u001b[39m \u001b[39m \u001b[32m \u001b[39m\u001b[39m \u001b[39m \u001b[39m \u001b[39m \u001b[39m▇\u001b[39m \u001b[39m \u001b[39m \u001b[39m \u001b[39m \u001b[39m \u001b[39m \u001b[39m \u001b[39m \u001b[39m \u001b[39m \u001b[39m▂\u001b[39m \u001b[39m \u001b[39m \u001b[39m \u001b[39m \u001b[39m \u001b[39m \u001b[39m \u001b[39m \u001b[39m \u001b[39m▁\u001b[39m \u001b[39m▁\n",
       "  \u001b[39m▅\u001b[39m▁\u001b[39m▁\u001b[39m▁\u001b[39m▁\u001b[39m▁\u001b[39m▁\u001b[39m▁\u001b[39m▁\u001b[39m▁\u001b[39m▁\u001b[39m█\u001b[39m▁\u001b[39m▁\u001b[39m▁\u001b[39m▁\u001b[39m▁\u001b[39m▁\u001b[39m▁\u001b[39m▁\u001b[39m▁\u001b[39m▁\u001b[39m▁\u001b[34m█\u001b[39m\u001b[39m▁\u001b[39m▁\u001b[39m▁\u001b[39m▁\u001b[39m▁\u001b[32m▁\u001b[39m\u001b[39m▁\u001b[39m▁\u001b[39m▁\u001b[39m▁\u001b[39m█\u001b[39m▁\u001b[39m▁\u001b[39m▁\u001b[39m▁\u001b[39m▁\u001b[39m▁\u001b[39m▁\u001b[39m▁\u001b[39m▁\u001b[39m▁\u001b[39m▁\u001b[39m█\u001b[39m▁\u001b[39m▁\u001b[39m▁\u001b[39m▁\u001b[39m▁\u001b[39m▁\u001b[39m▁\u001b[39m▁\u001b[39m▁\u001b[39m▁\u001b[39m█\u001b[39m \u001b[39m█\n",
       "  2.46 ns\u001b[90m      \u001b[39m\u001b[90mHistogram: \u001b[39m\u001b[90m\u001b[1mlog(\u001b[22m\u001b[39m\u001b[90mfrequency\u001b[39m\u001b[90m\u001b[1m)\u001b[22m\u001b[39m\u001b[90m by time\u001b[39m     2.67 ns \u001b[0m\u001b[1m<\u001b[22m\n",
       "\n",
       " Memory estimate\u001b[90m: \u001b[39m\u001b[33m0 bytes\u001b[39m, allocs estimate\u001b[90m: \u001b[39m\u001b[33m0\u001b[39m."
      ]
     },
     "execution_count": 29,
     "metadata": {},
     "output_type": "execute_result"
    }
   ],
   "source": [
    "markp2 = @benchmark f_horner_macro($x)"
   ]
  },
  {
   "cell_type": "markdown",
   "id": "315d71f5",
   "metadata": {},
   "source": [
    "# KR5\n",
    "Table showing how many minutes will the function evaluations in both KR3 and KR4 be reduced if KR2 requires 24hours of runtime."
   ]
  },
  {
   "cell_type": "markdown",
   "id": "e9375b70",
   "metadata": {},
   "source": [
    "We then generate a table to show the the ratio of the speed for  the naive implementation and the other methods."
   ]
  },
  {
   "cell_type": "code",
   "execution_count": 30,
   "id": "4970e1db",
   "metadata": {
    "scrolled": true
   },
   "outputs": [
    {
     "name": "stdout",
     "output_type": "stream",
     "text": [
      "\u001b[1m3×2 DataFrame\u001b[0m\n",
      "\u001b[1m Row \u001b[0m│\u001b[1m Method \u001b[0m\u001b[1m Speedup \u001b[0m\n",
      "     │\u001b[90m String \u001b[0m\u001b[90m Float64 \u001b[0m\n",
      "─────┼─────────────────\n",
      "   1 │ Naive    1.0\n",
      "   2 │ Horner  11.835\n",
      "   3 │ Macro   12.0259"
     ]
    }
   ],
   "source": [
    "speedup0 = median(markp0.times) / median(markp0.times)\n",
    "speedup1 = median(markp0.times) / median(markp1.times)\n",
    "speedup2 = median(markp0.times) / median(markp2.times)\n",
    "\n",
    "# Generating table\n",
    "table = DataFrame(\"Method\"=>[\"Naive\"],\"Speedup\" => [speedup0]);\n",
    "push!(table, [\"Horner\", speedup1]);\n",
    "push!(table, [\"Macro\", speedup2]);\n",
    "\n",
    "print(table)\n"
   ]
  },
  {
   "cell_type": "markdown",
   "id": "598459d4",
   "metadata": {},
   "source": [
    "We observe that the macro implementation of the Horner method provides the fastest implementation of evaluating the polynomial function. Meanwhile the naive implementation is the slowest.\n",
    "\n",
    "Next, we include the time it takes to run in minutes when the naive implementation is ran for 24 hours."
   ]
  },
  {
   "cell_type": "code",
   "execution_count": 31,
   "id": "b8158a79",
   "metadata": {},
   "outputs": [
    {
     "name": "stdout",
     "output_type": "stream",
     "text": [
      "\u001b[1m3×4 DataFrame\u001b[0m\n",
      "\u001b[1m Row \u001b[0m│\u001b[1m Method \u001b[0m\u001b[1m Speedup \u001b[0m\u001b[1m Time(hours) \u001b[0m\u001b[1m Time(minutes) \u001b[0m\n",
      "     │\u001b[90m String \u001b[0m\u001b[90m Float64 \u001b[0m\u001b[90m Float64     \u001b[0m\u001b[90m Float64       \u001b[0m\n",
      "─────┼─────────────────────────────────────────────\n",
      "   1 │ Naive    1.0        24.0           1440.0\n",
      "   2 │ Horner  11.835       2.02788        121.673\n",
      "   3 │ Macro   12.0259      1.99569        119.742"
     ]
    }
   ],
   "source": [
    "transform!(table,:Speedup=>ByRow(x->24/x)=>:\"Time(hours)\", \n",
    "    :Speedup=>ByRow(x->24*60/x)=>:\"Time(minutes)\")\n",
    "print(table)"
   ]
  },
  {
   "cell_type": "markdown",
   "id": "ac567a4d",
   "metadata": {},
   "source": [
    "To get a better comparison we include the time in hours and minutes. For the 24 hours runtime using the naive implementation, we observe a significant decrease of the runtime using the Horner and most especially the macro Horner's method. The macro implementation of the Horner's method finishes within 119.742 minutes while the Horner's method is 121.673 minutes."
   ]
  }
 ],
 "metadata": {
  "hide_input": false,
  "kernelspec": {
   "display_name": "Julia 1.8.0",
   "language": "julia",
   "name": "julia-1.8"
  },
  "language_info": {
   "file_extension": ".jl",
   "mimetype": "application/julia",
   "name": "julia",
   "version": "1.8.0"
  },
  "latex_envs": {
   "LaTeX_envs_menu_present": true,
   "autoclose": false,
   "autocomplete": true,
   "bibliofile": "biblio.bib",
   "cite_by": "apalike",
   "current_citInitial": 1,
   "eqLabelWithNumbers": true,
   "eqNumInitial": 1,
   "hotkeys": {
    "equation": "Ctrl-E",
    "itemize": "Ctrl-I"
   },
   "labels_anchors": false,
   "latex_user_defs": false,
   "report_style_numbering": false,
   "user_envs_cfg": false
  },
  "toc": {
   "base_numbering": 1,
   "nav_menu": {},
   "number_sections": false,
   "sideBar": true,
   "skip_h1_title": false,
   "title_cell": "Table of Contents",
   "title_sidebar": "Contents",
   "toc_cell": false,
   "toc_position": {},
   "toc_section_display": true,
   "toc_window_display": false
  },
  "varInspector": {
   "cols": {
    "lenName": 16,
    "lenType": 16,
    "lenVar": 40
   },
   "kernels_config": {
    "python": {
     "delete_cmd_postfix": "",
     "delete_cmd_prefix": "del ",
     "library": "var_list.py",
     "varRefreshCmd": "print(var_dic_list())"
    },
    "r": {
     "delete_cmd_postfix": ") ",
     "delete_cmd_prefix": "rm(",
     "library": "var_list.r",
     "varRefreshCmd": "cat(var_dic_list()) "
    }
   },
   "types_to_exclude": [
    "module",
    "function",
    "builtin_function_or_method",
    "instance",
    "_Feature"
   ],
   "window_display": false
  }
 },
 "nbformat": 4,
 "nbformat_minor": 5
}
