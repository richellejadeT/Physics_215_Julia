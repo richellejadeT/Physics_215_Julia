{
 "cells": [
  {
   "cell_type": "markdown",
   "id": "14d5b381",
   "metadata": {},
   "source": [
    "Physics 215 (1st Semester AY 2022-2023)\n",
    "\n",
    "Richelle Jade L. Tuquero"
   ]
  },
  {
   "cell_type": "markdown",
   "id": "4f3e6e42",
   "metadata": {},
   "source": [
    "# Session 3 Types, type inference and stability\n",
    "\n",
    "**OBJECTIVE**: Demonstrate the dynamic programming features of Julia\n",
    "* [X] KR1: Shown or demonstrated the hierarchy of Julia’s type hierarchy using the command ``subtypes()``. Start from Number and use ``subtypes()`` to explore from  down to specific types. Use ``supertype()`` to determine the  abstract type.\n",
    "* [X] KR2: Implemented and used at least one own composite type via ``struct``. Generate two more versions that are mutable type and type-parametrized of the custom-built type.\n",
    "* [X] KR3: Demonstrated type inference in Julia. Generator expressions may be used for this.\n",
    "* [X] KR4: Created a function with inherent type-instability. Create a version of the function with fixed  issues.\n",
    "* [X] KR5: Demonstration of how ``@code_warntype`` can be useful in detecting type-instabilities.\n",
    "* [X] KR6: Demonstration of how Arrays containing ambiguous/abstract types often results to slow execution of codes. The ``BenchmarkTools`` may be useful in this part."
   ]
  },
  {
   "cell_type": "code",
   "execution_count": 1,
   "id": "c81e730e",
   "metadata": {},
   "outputs": [
    {
     "name": "stderr",
     "output_type": "stream",
     "text": [
      "\u001b[32m\u001b[1m  Activating\u001b[22m\u001b[39m project at `~/Desktop/Physics 215/Submission/Session 3`\n",
      "\u001b[32m\u001b[1m    Updating\u001b[22m\u001b[39m registry at `~/.julia/registries/General.toml`\n",
      "\u001b[32m\u001b[1m   Resolving\u001b[22m\u001b[39m package versions...\n",
      "\u001b[32m\u001b[1m  No Changes\u001b[22m\u001b[39m to `~/Desktop/Physics 215/Submission/Session 3/Project.toml`\n",
      "\u001b[32m\u001b[1m  No Changes\u001b[22m\u001b[39m to `~/Desktop/Physics 215/Submission/Session 3/Manifest.toml`\n",
      "\u001b[32m\u001b[1m    Updating\u001b[22m\u001b[39m registry at `~/.julia/registries/General.toml`\n",
      "\u001b[32m\u001b[1m  No Changes\u001b[22m\u001b[39m to `~/Desktop/Physics 215/Submission/Session 3/Project.toml`\n",
      "\u001b[32m\u001b[1m  No Changes\u001b[22m\u001b[39m to `~/Desktop/Physics 215/Submission/Session 3/Manifest.toml`\n"
     ]
    },
    {
     "name": "stdout",
     "output_type": "stream",
     "text": [
      "\u001b[32m\u001b[1mStatus\u001b[22m\u001b[39m `~/Desktop/Physics 215/Submission/Session 3/Project.toml`\n",
      " \u001b[90m [6e4b80f9] \u001b[39mBenchmarkTools v1.3.2\n",
      " \u001b[90m [91a5bcdd] \u001b[39mPlots v1.36.1\n"
     ]
    }
   ],
   "source": [
    "using Pkg\n",
    "Pkg.activate(\".\")\n",
    "Pkg.add(\"BenchmarkTools\")\n",
    "Pkg.update()\n",
    "Pkg.status()"
   ]
  },
  {
   "cell_type": "markdown",
   "id": "71e993be",
   "metadata": {},
   "source": [
    "# KR1\n",
    "Shown or demonstrated the hierarchy of Julia’s type hierarchy using the command ``subtypes()``. Start from Number and use ``subtypes()`` to explore from down to specific types. Use ``supertype()`` to determine the abstract type."
   ]
  },
  {
   "cell_type": "markdown",
   "id": "8e4d19cf",
   "metadata": {},
   "source": [
    "We first check the result of ``subtypes()`` for ``Number`` and its subtypes."
   ]
  },
  {
   "cell_type": "code",
   "execution_count": 2,
   "id": "963e0ba2",
   "metadata": {},
   "outputs": [
    {
     "data": {
      "text/plain": [
       "2-element Vector{Any}:\n",
       " Complex\n",
       " Real"
      ]
     },
     "execution_count": 2,
     "metadata": {},
     "output_type": "execute_result"
    }
   ],
   "source": [
    "subtypes(Number)"
   ]
  },
  {
   "cell_type": "code",
   "execution_count": 3,
   "id": "c4712aad",
   "metadata": {},
   "outputs": [
    {
     "data": {
      "text/plain": [
       "4-element Vector{Any}:\n",
       " AbstractFloat\n",
       " AbstractIrrational\n",
       " Integer\n",
       " Rational"
      ]
     },
     "execution_count": 3,
     "metadata": {},
     "output_type": "execute_result"
    }
   ],
   "source": [
    "subtypes(Real)"
   ]
  },
  {
   "cell_type": "code",
   "execution_count": 4,
   "id": "632aea9a",
   "metadata": {},
   "outputs": [
    {
     "data": {
      "text/plain": [
       "Type[]"
      ]
     },
     "execution_count": 4,
     "metadata": {},
     "output_type": "execute_result"
    }
   ],
   "source": [
    "subtypes(Complex)"
   ]
  },
  {
   "cell_type": "markdown",
   "id": "c53d99f4",
   "metadata": {},
   "source": [
    "We observe that the ``Number`` type consists of Complex and Real numbers. However, upon further investigation we notice that the ``Real`` type consists of other subtypes while the ``Complex`` type has none. From this, we decided to create a function that will show us the hierarchy of the types starting from ``Number``. We refer to this function as ``det_subtype``."
   ]
  },
  {
   "cell_type": "code",
   "execution_count": 5,
   "id": "29560470",
   "metadata": {},
   "outputs": [
    {
     "name": "stdout",
     "output_type": "stream",
     "text": [
      "search:\n",
      "\n",
      "Couldn't find \u001b[36mdet_subtype\u001b[39m\n",
      "Perhaps you meant subtypes\n"
     ]
    },
    {
     "data": {
      "text/latex": [
       "No documentation found.\n",
       "\n",
       "Binding \\texttt{det\\_subtype} does not exist.\n",
       "\n"
      ],
      "text/markdown": [
       "No documentation found.\n",
       "\n",
       "Binding `det_subtype` does not exist.\n"
      ],
      "text/plain": [
       "  No documentation found.\n",
       "\n",
       "  Binding \u001b[36mdet_subtype\u001b[39m does not exist."
      ]
     },
     "execution_count": 5,
     "metadata": {},
     "output_type": "execute_result"
    }
   ],
   "source": [
    "? det_subtype"
   ]
  },
  {
   "cell_type": "markdown",
   "id": "f4114c10",
   "metadata": {},
   "source": [
    "Since there is no function by that name, we start defining the function ``det_subtype`` which will determine the subtypes starting from the type ``var``. To get a better look at the hierarchy, we include indentations given by the string ``\"...|\"``. Moreover, since a subtype might contain its own subtype then we also call the function inside the same function for that specific type."
   ]
  },
  {
   "cell_type": "code",
   "execution_count": 6,
   "id": "f03f9ceb",
   "metadata": {},
   "outputs": [
    {
     "data": {
      "text/plain": [
       "def_subtype"
      ]
     },
     "execution_count": 6,
     "metadata": {},
     "output_type": "execute_result"
    }
   ],
   "source": [
    "\"\"\"\n",
    "    def_subtype( var; hierar = 1 )\n",
    "Determines the subtype of var and the other specific subtypes.\n",
    "- Input: ``var`` initial data type\n",
    "        ``hierar`` states the level.\n",
    "\"\"\"\n",
    "function def_subtype( var; hierar = 1)\n",
    "    level = \"...|\"\n",
    "    type_var = subtypes( var )    # Determine initial subtype/s\n",
    "    if hierar == 1                # For spacing\n",
    "        println( var)\n",
    "    end\n",
    "    for i in type_var             # For-loop to check the subtypes of each subtypes\n",
    "        println(string(hierar)*level^hierar * string(i))\n",
    "        def_subtype(i; hierar = hierar+1)\n",
    "    end\n",
    "end"
   ]
  },
  {
   "cell_type": "code",
   "execution_count": 7,
   "id": "45f662c7",
   "metadata": {},
   "outputs": [
    {
     "name": "stdout",
     "output_type": "stream",
     "text": [
      "Number\n",
      "1...|Complex\n",
      "1...|Real\n",
      "2...|...|AbstractFloat\n",
      "3...|...|...|BigFloat\n",
      "3...|...|...|Float16\n",
      "3...|...|...|Float32\n",
      "3...|...|...|Float64\n",
      "2...|...|AbstractIrrational\n",
      "3...|...|...|Irrational\n",
      "2...|...|Integer\n",
      "3...|...|...|Bool\n",
      "3...|...|...|Signed\n",
      "4...|...|...|...|BigInt\n",
      "4...|...|...|...|Int128\n",
      "4...|...|...|...|Int16\n",
      "4...|...|...|...|Int32\n",
      "4...|...|...|...|Int64\n",
      "4...|...|...|...|Int8\n",
      "3...|...|...|Unsigned\n",
      "4...|...|...|...|UInt128\n",
      "4...|...|...|...|UInt16\n",
      "4...|...|...|...|UInt32\n",
      "4...|...|...|...|UInt64\n",
      "4...|...|...|...|UInt8\n",
      "2...|...|Rational\n"
     ]
    }
   ],
   "source": [
    "def_subtype(Number)"
   ]
  },
  {
   "cell_type": "markdown",
   "id": "21d0e493",
   "metadata": {},
   "source": [
    "In here, we observe that the subtypes of ``Number`` are ``Complex`` and ``Real`` where ``Real`` contains more specific subtypes and ``Complex`` has none. To get a better idea, we check the type of ``Complex`` and ``Real`` using ``typeof``."
   ]
  },
  {
   "cell_type": "code",
   "execution_count": 8,
   "id": "0c800879",
   "metadata": {},
   "outputs": [
    {
     "data": {
      "text/plain": [
       "UnionAll"
      ]
     },
     "execution_count": 8,
     "metadata": {},
     "output_type": "execute_result"
    }
   ],
   "source": [
    "typeof(Complex)"
   ]
  },
  {
   "cell_type": "code",
   "execution_count": 9,
   "id": "cbdab9d5",
   "metadata": {},
   "outputs": [
    {
     "data": {
      "text/plain": [
       "DataType"
      ]
     },
     "execution_count": 9,
     "metadata": {},
     "output_type": "execute_result"
    }
   ],
   "source": [
    "typeof(Real)"
   ]
  },
  {
   "cell_type": "markdown",
   "id": "5fe9bc3f",
   "metadata": {},
   "source": [
    "This confirms that ``Complex`` has no subtypes unlike ``Real`` since ``Complex`` is not a ``DataType`` and instead it is a ``UnionAll``. This makes sense since we have ``Complex`` by including ``im`` to a real number making it a union of types. Hence, ``Complex`` is a concrete type since it does not have a subtype, unlike ``Real`` which is an abstract type.\n",
    "\n",
    "For a more general discussion, the abstract types are ``Number``, ``Complex``, ``Real``, ``AbstractFloat``, ``AbstractIrrational``, ``Integer``, ``Signed``, and ``Unsigned``. These does not hold any value and are characterized by having subtypes as shown in the hierarchy. Concrete types on the otherhand are ``Complex``, ``BigFloat``, ``Float16``, ``Float32``, ``Float64``, ``Irrational``, ``Bool``, ``BigInt``, ``Int128``, ``Int16``, ``Int32``, ``Int64``, ``Int8``, ``UInt128``, ``UInt16``, ``UInt32``, ``UInt64``, ``UInt8``, and ``Rational``. These are types which can hold values.\n",
    "\n",
    "It is important to note the difference between these concrete types, specifically those with abstract types ``AbstarctFloat``, ``Signed``, and ``Unsigned``, are commonly due to the number of bits used for the stored value. Other interesting differences is that the ``Rational`` type can hold values as fractions by having integers in the numerator and denominator, separated by ``//``. Next, the ``Irrational`` type refers to the constants like $\\pi$ and $e$.\n",
    "\n",
    "Then, we consider determining the abstract type by using ``supertype()``. We first try it for ``Union``."
   ]
  },
  {
   "cell_type": "code",
   "execution_count": 10,
   "id": "d473d489",
   "metadata": {},
   "outputs": [
    {
     "data": {
      "text/plain": [
       "Type{T}"
      ]
     },
     "execution_count": 10,
     "metadata": {},
     "output_type": "execute_result"
    }
   ],
   "source": [
    "supertype(Union)"
   ]
  },
  {
   "cell_type": "code",
   "execution_count": 11,
   "id": "8f92cbc9",
   "metadata": {},
   "outputs": [
    {
     "data": {
      "text/plain": [
       "Any"
      ]
     },
     "execution_count": 11,
     "metadata": {},
     "output_type": "execute_result"
    }
   ],
   "source": [
    "supertype(supertype(Union))"
   ]
  },
  {
   "cell_type": "markdown",
   "id": "5b085abb",
   "metadata": {},
   "source": [
    "Hence, we confirm that ``Union`` refers to the bottom of the hierarchy which is present in Any types. This means that all the types can be the abstract type of ``Union``. Next let us check another type which is ``Int8``."
   ]
  },
  {
   "cell_type": "code",
   "execution_count": 12,
   "id": "65bfbed4",
   "metadata": {},
   "outputs": [
    {
     "data": {
      "text/plain": [
       "Signed"
      ]
     },
     "execution_count": 12,
     "metadata": {},
     "output_type": "execute_result"
    }
   ],
   "source": [
    "supertype(Int8)"
   ]
  },
  {
   "cell_type": "code",
   "execution_count": 13,
   "id": "0c98a494",
   "metadata": {},
   "outputs": [
    {
     "data": {
      "text/plain": [
       "Integer"
      ]
     },
     "execution_count": 13,
     "metadata": {},
     "output_type": "execute_result"
    }
   ],
   "source": [
    "supertype(supertype(Int8))"
   ]
  },
  {
   "cell_type": "code",
   "execution_count": 14,
   "id": "0016cb2d",
   "metadata": {},
   "outputs": [
    {
     "data": {
      "text/plain": [
       "Real"
      ]
     },
     "execution_count": 14,
     "metadata": {},
     "output_type": "execute_result"
    }
   ],
   "source": [
    "supertype(supertype(supertype(Int8)))"
   ]
  },
  {
   "cell_type": "markdown",
   "id": "ef508a9a",
   "metadata": {},
   "source": [
    "Notice that the supertype or abstract type of ``Int8`` is ``Signed`` which has the abstract type of ``Integer`` then ``Real``, and finally ``Number``. While we can check the respective abstract type, it would take time to check it manually. Hence, we define a function called ``def_supertype`` to check the supertype until ``Number`` for a specified type ``var``."
   ]
  },
  {
   "cell_type": "code",
   "execution_count": 15,
   "id": "7705e27b",
   "metadata": {},
   "outputs": [
    {
     "name": "stdout",
     "output_type": "stream",
     "text": [
      "search:\n",
      "\n",
      "Couldn't find \u001b[36mdef_supertype\u001b[39m\n",
      "Perhaps you meant def_subtype or supertype\n"
     ]
    },
    {
     "data": {
      "text/latex": [
       "No documentation found.\n",
       "\n",
       "Binding \\texttt{def\\_supertype} does not exist.\n",
       "\n"
      ],
      "text/markdown": [
       "No documentation found.\n",
       "\n",
       "Binding `def_supertype` does not exist.\n"
      ],
      "text/plain": [
       "  No documentation found.\n",
       "\n",
       "  Binding \u001b[36mdef_supertype\u001b[39m does not exist."
      ]
     },
     "execution_count": 15,
     "metadata": {},
     "output_type": "execute_result"
    }
   ],
   "source": [
    "? def_supertype"
   ]
  },
  {
   "cell_type": "code",
   "execution_count": 16,
   "id": "c3548f6b",
   "metadata": {},
   "outputs": [
    {
     "data": {
      "text/plain": [
       "def_supertype"
      ]
     },
     "execution_count": 16,
     "metadata": {},
     "output_type": "execute_result"
    }
   ],
   "source": [
    "\"\"\"\n",
    "    def_supertype( var; hierar = 1 )\n",
    "Determines the subtype of var and the other specific subtypes.\n",
    "- Input: ``var`` initial data type\n",
    "        ``hierar`` states the level of the abstract type.\n",
    "\"\"\"\n",
    "function def_supertype( var; hierar = 1)\n",
    "    level = \"...|\"\n",
    "    type_var = supertype( var )      # Determines the supertype\n",
    "    if hierar == 1                   # For initial spacing\n",
    "        println( var)\n",
    "    end\n",
    "    println(\"-\"*string(hierar)*level^hierar * string(type_var))\n",
    "    if type_var != Number && type_var != Any     # Determine the subtype until it reaches Number and Any\n",
    "        def_supertype(type_var; hierar = hierar+1)\n",
    "    end\n",
    "end"
   ]
  },
  {
   "cell_type": "code",
   "execution_count": 17,
   "id": "82262ba2",
   "metadata": {},
   "outputs": [
    {
     "name": "stdout",
     "output_type": "stream",
     "text": [
      "Int8\n",
      "-1...|Signed\n",
      "-2...|...|Integer\n",
      "-3...|...|...|Real\n",
      "-4...|...|...|...|Number\n"
     ]
    }
   ],
   "source": [
    "def_supertype(Int8)"
   ]
  },
  {
   "cell_type": "code",
   "execution_count": 18,
   "id": "2ee9a727",
   "metadata": {},
   "outputs": [
    {
     "name": "stdout",
     "output_type": "stream",
     "text": [
      "Union\n",
      "-1...|Type{T}\n",
      "-2...|...|Any\n"
     ]
    }
   ],
   "source": [
    "def_supertype(Union)"
   ]
  },
  {
   "cell_type": "code",
   "execution_count": 19,
   "id": "d4acadd7",
   "metadata": {},
   "outputs": [
    {
     "name": "stdout",
     "output_type": "stream",
     "text": [
      "Irrational\n",
      "-1...|AbstractIrrational\n",
      "-2...|...|Real\n",
      "-3...|...|...|Number\n"
     ]
    }
   ],
   "source": [
    "def_supertype(Irrational)"
   ]
  },
  {
   "cell_type": "markdown",
   "id": "f39caf7d",
   "metadata": {},
   "source": [
    "# KR2\n",
    "Implemented and used at least one own composite type via struct. Generate two more versions that are mutable type and type-parametrized of the custom-built type."
   ]
  },
  {
   "cell_type": "markdown",
   "id": "0c5c8fe7",
   "metadata": {},
   "source": [
    "In this section, we consider using different types of ``struct``. ``struct`` are structured data that contains the information of a specific object. This is comparable to classes in other programming languages. In here, we choose to create a ``struct`` called as ``wavefunction``. This contains the number of particles ``N``, the amplitudes or constants ``amp`` for each ``state`` ``Vector``."
   ]
  },
  {
   "cell_type": "code",
   "execution_count": 20,
   "id": "1746d32e",
   "metadata": {},
   "outputs": [],
   "source": [
    "struct wavefunction\n",
    "    N::Real        # Number of particles\n",
    "    amp::Vector    # Constants\n",
    "    state::Vector  # States\n",
    "end"
   ]
  },
  {
   "cell_type": "markdown",
   "id": "524124b7",
   "metadata": {},
   "source": [
    "If we want to refer to the ``wavefunction`` using other names, for example ``wavef``. Then, we can do this by doing the following."
   ]
  },
  {
   "cell_type": "code",
   "execution_count": 21,
   "id": "9cf89499",
   "metadata": {},
   "outputs": [
    {
     "name": "stdout",
     "output_type": "stream",
     "text": [
      "DataType\n"
     ]
    }
   ],
   "source": [
    "wavef = wavefunction\n",
    "println(typeof(wavef))"
   ]
  },
  {
   "cell_type": "markdown",
   "id": "26148b15",
   "metadata": {},
   "source": [
    "Let us try to introduce the values for the variables for the wavefunction or ``wavef``."
   ]
  },
  {
   "cell_type": "code",
   "execution_count": 22,
   "id": "418c8f51",
   "metadata": {},
   "outputs": [],
   "source": [
    "N = 1;\n",
    "amp = [1/sqrt(2), 1/sqrt(2)];\n",
    "state = [[1;0], [0;1]];"
   ]
  },
  {
   "cell_type": "code",
   "execution_count": 23,
   "id": "e15b5a58",
   "metadata": {},
   "outputs": [
    {
     "name": "stdout",
     "output_type": "stream",
     "text": [
      "typeof(psi) = wavefunction\n",
      "psi = wavefunction(1, [0.7071067811865475, 0.7071067811865475], [[1, 0], [0, 1]])\n",
      "psi.N = 1\n",
      "psi.amp = [0.7071067811865475, 0.7071067811865475]\n",
      "psi.state = [[1, 0], [0, 1]]\n"
     ]
    }
   ],
   "source": [
    "psi = wavef(N, amp, state)\n",
    "println(\"typeof(psi) = $(typeof(psi))\")\n",
    "println(\"psi = $(psi)\")\n",
    "println(\"psi.N = $(psi.N)\")\n",
    "println(\"psi.amp = $(psi.amp)\")\n",
    "println(\"psi.state = $(psi.state)\")"
   ]
  },
  {
   "cell_type": "markdown",
   "id": "5bda0354",
   "metadata": {},
   "source": [
    "Next, we try to change the values in the vectors included in the ``struct``."
   ]
  },
  {
   "cell_type": "code",
   "execution_count": 24,
   "id": "06d38d35",
   "metadata": {},
   "outputs": [
    {
     "data": {
      "text/plain": [
       "2-element Vector{Int64}:\n",
       " 1\n",
       " 0"
      ]
     },
     "execution_count": 24,
     "metadata": {},
     "output_type": "execute_result"
    }
   ],
   "source": [
    "psi.amp[:] = [1, 0]"
   ]
  },
  {
   "cell_type": "code",
   "execution_count": 25,
   "id": "e8cdcedb",
   "metadata": {},
   "outputs": [
    {
     "ename": "LoadError",
     "evalue": "setfield!: immutable struct of type wavefunction cannot be changed",
     "output_type": "error",
     "traceback": [
      "setfield!: immutable struct of type wavefunction cannot be changed",
      "",
      "Stacktrace:",
      " [1] setproperty!(x::wavefunction, f::Symbol, v::Int64)",
      "   @ Base ./Base.jl:39",
      " [2] top-level scope",
      "   @ In[25]:1",
      " [3] eval",
      "   @ ./boot.jl:368 [inlined]",
      " [4] include_string(mapexpr::typeof(REPL.softscope), mod::Module, code::String, filename::String)",
      "   @ Base ./loading.jl:1428"
     ]
    }
   ],
   "source": [
    "psi.N = 100"
   ]
  },
  {
   "cell_type": "markdown",
   "id": "1977ed50",
   "metadata": {},
   "source": [
    "From the above result it shows that we can only change the reference values of a vector included in the ``struct`` with specified index. However, if we were to change the properties like ``N`` we are reminded that the ``struct`` is immutable and as such we cannot reassign a value for the property."
   ]
  },
  {
   "cell_type": "markdown",
   "id": "ae3e565a",
   "metadata": {},
   "source": [
    "Next, we consider creating a mutable struct version of the previous struct."
   ]
  },
  {
   "cell_type": "code",
   "execution_count": 26,
   "id": "614542f7",
   "metadata": {},
   "outputs": [],
   "source": [
    "mutable struct Mwavefunction\n",
    "    N::Real        # Number of particles\n",
    "    amp::Vector    # Constants\n",
    "    state::Vector  # States\n",
    "end"
   ]
  },
  {
   "cell_type": "code",
   "execution_count": 27,
   "id": "c352a8ee",
   "metadata": {},
   "outputs": [
    {
     "data": {
      "text/plain": [
       "Mwavefunction(1, [1.0, 0.0], [[1, 0], [0, 1]])"
      ]
     },
     "execution_count": 27,
     "metadata": {},
     "output_type": "execute_result"
    }
   ],
   "source": [
    "mpsi = Mwavefunction(N, amp, state)"
   ]
  },
  {
   "cell_type": "markdown",
   "id": "84d11481",
   "metadata": {},
   "source": [
    "Let us try if we can change a reference value by reassigning the value of ``N`` again and check if we can instead input it as another abstract type like ``complex``."
   ]
  },
  {
   "cell_type": "code",
   "execution_count": 28,
   "id": "7d4820a6",
   "metadata": {},
   "outputs": [
    {
     "data": {
      "text/plain": [
       "100"
      ]
     },
     "execution_count": 28,
     "metadata": {},
     "output_type": "execute_result"
    }
   ],
   "source": [
    "mpsi.N = 100"
   ]
  },
  {
   "cell_type": "code",
   "execution_count": 29,
   "id": "57cb6a28",
   "metadata": {},
   "outputs": [
    {
     "ename": "LoadError",
     "evalue": "InexactError: Real(100 - 1im)",
     "output_type": "error",
     "traceback": [
      "InexactError: Real(100 - 1im)",
      "",
      "Stacktrace:",
      " [1] Real",
      "   @ ./complex.jl:44 [inlined]",
      " [2] convert",
      "   @ ./number.jl:7 [inlined]",
      " [3] setproperty!(x::Mwavefunction, f::Symbol, v::Complex{Int64})",
      "   @ Base ./Base.jl:39",
      " [4] top-level scope",
      "   @ In[29]:1",
      " [5] eval",
      "   @ ./boot.jl:368 [inlined]",
      " [6] include_string(mapexpr::typeof(REPL.softscope), mod::Module, code::String, filename::String)",
      "   @ Base ./loading.jl:1428"
     ]
    }
   ],
   "source": [
    "mpsi.N = 100 - 1im"
   ]
  },
  {
   "cell_type": "markdown",
   "id": "5542a8ff",
   "metadata": {},
   "source": [
    "From the ``mutable struct``, we can change the values of the reference inputs. While this is helpful, this might be prone to error since the properties can be changed. However, it is also important to note that the data type cannot be changed. In the example, we changed ``N`` to ``complex`` even if it should be ``Real``. Thus, resulting to an ``InexactError``.\n",
    "\n",
    "Next, we consider parametrization of the type in the struct."
   ]
  },
  {
   "cell_type": "code",
   "execution_count": 30,
   "id": "a5df84d7",
   "metadata": {},
   "outputs": [],
   "source": [
    "struct Pwavefunction{T}\n",
    "    N::T       # Number of particles\n",
    "    amp::Vector    # Constants\n",
    "    state::Vector{Vector{T}}  # States\n",
    "end"
   ]
  },
  {
   "cell_type": "code",
   "execution_count": 31,
   "id": "14748fbd",
   "metadata": {},
   "outputs": [
    {
     "data": {
      "text/plain": [
       "Pwavefunction{Int64}(1, [1.0, 0.0], [[1, 0], [0, 1]])"
      ]
     },
     "execution_count": 31,
     "metadata": {},
     "output_type": "execute_result"
    }
   ],
   "source": [
    "ppsi = Pwavefunction(N, amp, state)"
   ]
  },
  {
   "cell_type": "markdown",
   "id": "0e636fd2",
   "metadata": {},
   "source": [
    "By parametrizing the types of the ``composite types`` we are able to assign a more varied and flexible data types for the reference values. While Julia can indeed do this without parametrization, it would take longer to finish running as compared to parametrizing the types. Do note that this still makes the reference values immutable."
   ]
  },
  {
   "cell_type": "markdown",
   "id": "adcd6331",
   "metadata": {},
   "source": [
    "# KR3\n",
    "Demonstrated type inference in Julia. Generator expressions may be used for this."
   ]
  },
  {
   "cell_type": "code",
   "execution_count": 32,
   "id": "bf014486",
   "metadata": {},
   "outputs": [
    {
     "data": {
      "text/plain": [
       "10-element Vector{Int64}:\n",
       "  1\n",
       "  2\n",
       "  3\n",
       "  4\n",
       "  5\n",
       "  6\n",
       "  7\n",
       "  8\n",
       "  9\n",
       " 10"
      ]
     },
     "execution_count": 32,
     "metadata": {},
     "output_type": "execute_result"
    }
   ],
   "source": [
    "[i for i in 1:10]"
   ]
  },
  {
   "cell_type": "code",
   "execution_count": 33,
   "id": "e9ed6978",
   "metadata": {},
   "outputs": [
    {
     "data": {
      "text/plain": [
       "10-element Vector{Rational{Int64}}:\n",
       " 1//2\n",
       " 1//1\n",
       " 3//2\n",
       " 2//1\n",
       " 5//2\n",
       " 3//1\n",
       " 7//2\n",
       " 4//1\n",
       " 9//2\n",
       " 5//1"
      ]
     },
     "execution_count": 33,
     "metadata": {},
     "output_type": "execute_result"
    }
   ],
   "source": [
    "[i//2 for i in 1:10]"
   ]
  },
  {
   "cell_type": "code",
   "execution_count": 34,
   "id": "a17013ff",
   "metadata": {},
   "outputs": [
    {
     "data": {
      "text/plain": [
       "10-element Vector{Float64}:\n",
       " 0.5\n",
       " 1.0\n",
       " 1.5\n",
       " 2.0\n",
       " 2.5\n",
       " 3.0\n",
       " 3.5\n",
       " 4.0\n",
       " 4.5\n",
       " 5.0"
      ]
     },
     "execution_count": 34,
     "metadata": {},
     "output_type": "execute_result"
    }
   ],
   "source": [
    "[i/2 for i in 1:10]"
   ]
  },
  {
   "cell_type": "markdown",
   "id": "4a909516",
   "metadata": {},
   "source": [
    "As shown, Julia like Python can immediately determine the data type of the expression. The data type that is inferred by Julia depends on the data type of the inputs as well as the expression or operations used. In the example that we showed, we did it for an ``Int64`` inputs which gave us a ``Int64`` output. However, if the expression that is calculated does not follow the data type of the input like expressing this as fractions which gave a ``Rational`` output with ``Int64`` numerator and denominator. The other example is by dividing it which will result to a data type output of ``Float64``."
   ]
  },
  {
   "cell_type": "markdown",
   "id": "afbe9ac5",
   "metadata": {},
   "source": [
    "# KR4 and KR5\n",
    "In this section, we include KR4 and KR5 to show what are the sources of type-instabilities.\n",
    "\n",
    "**KR4**: Created a function with inherent type-instability. Create a version of the function with fixed  issues.\n",
    "\n",
    "**KR5**: Demonstration of how ``@code_warntype`` can be useful in detecting type-instabilities.\n"
   ]
  },
  {
   "cell_type": "markdown",
   "id": "e75de960",
   "metadata": {},
   "source": [
    "We define a function for Arithmetic series or progression given by\n",
    "\\begin{equation}\\label{1}\n",
    "a_n = a_1 + (n-1)d.\n",
    "\\end{equation}\n",
    "But instead of using Eq. \\eqref{1}, we will implement a for-loop instead to demonstrate type-instability."
   ]
  },
  {
   "cell_type": "code",
   "execution_count": 35,
   "id": "ba8cb6e2",
   "metadata": {},
   "outputs": [
    {
     "data": {
      "text/plain": [
       "arith_series"
      ]
     },
     "execution_count": 35,
     "metadata": {},
     "output_type": "execute_result"
    }
   ],
   "source": [
    "\"\"\"\n",
    "    arith_series(a1, d, n)\n",
    "Determines and returns the nth order in the arithmetic series.\n",
    "- Input: ``a1`` initial value\n",
    "         ``d``  distance or difference of two succedding values.\n",
    "         ``n``  nth order\n",
    "\"\"\"\n",
    "function arith_series(a1, d, n)\n",
    "    sum = a1    # initial value\n",
    "    for i in range(0, n)\n",
    "            sum += d\n",
    "    end\n",
    "    return sum\n",
    "end"
   ]
  },
  {
   "cell_type": "markdown",
   "id": "12e1f74d",
   "metadata": {},
   "source": [
    "Next, we demonstrate that depending on the data type of the input values, the data type for the return values are different."
   ]
  },
  {
   "cell_type": "code",
   "execution_count": 36,
   "id": "adc86897",
   "metadata": {
    "scrolled": true
   },
   "outputs": [
    {
     "name": "stdout",
     "output_type": "stream",
     "text": [
      "typeof(arith_series(1, 2, 4)) = Int64.\n",
      "typeof(arith_series(1, 2.0, 4)) = Float64.\n",
      "typeof(arith_series(1.0, 2.0, 4)) = Float64.\n",
      "typeof(arith_series(1.0, 2.0, 4.0)) = Float64.\n"
     ]
    }
   ],
   "source": [
    "println(\"typeof(arith_series(1, 2, 4)) = $(typeof(arith_series(1, 2, 4))).\")\n",
    "println(\"typeof(arith_series(1, 2.0, 4)) = $(typeof(arith_series(1.0, 2.0, 4))).\")\n",
    "println(\"typeof(arith_series(1.0, 2.0, 4)) = $(typeof(arith_series(1.0, 2.0, 4))).\")\n",
    "println(\"typeof(arith_series(1.0, 2.0, 4.0)) = $(typeof(arith_series(1.0, 2.0, 4.0))).\")"
   ]
  },
  {
   "cell_type": "markdown",
   "id": "1daac949",
   "metadata": {},
   "source": [
    "We note that regardless if the values are the same, the data type would still be different when the data type of the inputs are different. An example that we implemented is ``1`` and ``2`` which are ``Int64``. If one of the input data types is ``Float64`` then the data type for the return value would be ``Float64``. Moreover, if we have multiple data types present in the code, then this is also an example of type-instability."
   ]
  },
  {
   "cell_type": "code",
   "execution_count": 37,
   "id": "3d6494aa",
   "metadata": {},
   "outputs": [
    {
     "data": {
      "text/plain": [
       "comp_arith_series"
      ]
     },
     "execution_count": 37,
     "metadata": {},
     "output_type": "execute_result"
    }
   ],
   "source": [
    "\"\"\"\n",
    "    comp_arith_series(a1, d, n, comp)\n",
    "Determines and returns which is higher between comp and the nth order in the arithmetic series.\n",
    "- Input: ``a1`` initial value\n",
    "         ``d``  distance or difference of two succedding values.\n",
    "         ``n``  nth order\n",
    "         ``comp`` the compared number\n",
    "\"\"\"\n",
    "function comp_arith_series(a1, d, n, comp)\n",
    "    sum = arith_series(a1, d, n)   # returns the result for arithmetic series at the nth order.\n",
    "    # Comparing which is higher and returning the higher value.\n",
    "    if sum >= comp     \n",
    "        return sum\n",
    "    else\n",
    "        return comp\n",
    "    end\n",
    "end"
   ]
  },
  {
   "cell_type": "code",
   "execution_count": 38,
   "id": "b3c565a8",
   "metadata": {},
   "outputs": [
    {
     "name": "stdout",
     "output_type": "stream",
     "text": [
      "typeof(comp_arith_series(1, 2, 4, 20)) = Int64.\n",
      "typeof(comp_arith_series(1, 2.0, 4, 10)) = Float64.\n",
      "typeof(comp_arith_series(1.0, 2.0, 4, 20)) = Int64.\n",
      "typeof(comp_arith_series(1.0, 2.0, 4.0, 20.0)) = Float64.\n"
     ]
    }
   ],
   "source": [
    "println(\"typeof(comp_arith_series(1, 2, 4, 20)) = $(typeof(comp_arith_series(1, 2, 4, 20))).\")\n",
    "println(\"typeof(comp_arith_series(1, 2.0, 4, 10)) = $(typeof(comp_arith_series(1.0, 2.0, 4, 10))).\")\n",
    "println(\"typeof(comp_arith_series(1.0, 2.0, 4, 20)) = $(typeof(comp_arith_series(1.0, 2.0, 4, 20))).\")\n",
    "println(\"typeof(comp_arith_series(1.0, 2.0, 4.0, 20.0)) = $(typeof(comp_arith_series(1.0, 2.0, 4.0, 10.0))).\")"
   ]
  },
  {
   "cell_type": "markdown",
   "id": "b3a00b38",
   "metadata": {},
   "source": [
    "Next, we showed another reason why there is instability and this is when the possible return values have different data types."
   ]
  },
  {
   "cell_type": "markdown",
   "id": "9cc3e744",
   "metadata": {},
   "source": [
    "To get a better idea on what are the sources of type-instabilities that we should focus on. We use the ``@code_warntype`` to help us determine what parts or line of the code does this type-instabilities come from. We first check for ``arith_series`` then ``comp_arith_series``."
   ]
  },
  {
   "cell_type": "code",
   "execution_count": 39,
   "id": "ea74f9a4",
   "metadata": {},
   "outputs": [
    {
     "name": "stdout",
     "output_type": "stream",
     "text": [
      "MethodInstance for arith_series(::Int64, ::Int64, ::Int64)\n",
      "  from arith_series(a1, d, n) in Main at In[35]:8\n",
      "Arguments\n",
      "  #self#\u001b[36m::Core.Const(arith_series)\u001b[39m\n",
      "  a1\u001b[36m::Int64\u001b[39m\n",
      "  d\u001b[36m::Int64\u001b[39m\n",
      "  n\u001b[36m::Int64\u001b[39m\n",
      "Locals\n",
      "  @_5\u001b[33m\u001b[1m::Union{Nothing, Tuple{Int64, Int64}}\u001b[22m\u001b[39m\n",
      "  sum\u001b[36m::Int64\u001b[39m\n",
      "  i\u001b[36m::Int64\u001b[39m\n",
      "Body\u001b[36m::Int64\u001b[39m\n",
      "\u001b[90m1 ─\u001b[39m       (sum = a1)\n",
      "\u001b[90m│  \u001b[39m %2  = Main.range(0, n)\u001b[36m::Core.PartialStruct(UnitRange{Int64}, Any[Core.Const(0), Int64])\u001b[39m\n",
      "\u001b[90m│  \u001b[39m       (@_5 = Base.iterate(%2))\n",
      "\u001b[90m│  \u001b[39m %4  = (@_5 === nothing)\u001b[36m::Bool\u001b[39m\n",
      "\u001b[90m│  \u001b[39m %5  = Base.not_int(%4)\u001b[36m::Bool\u001b[39m\n",
      "\u001b[90m└──\u001b[39m       goto #4 if not %5\n",
      "\u001b[90m2 ┄\u001b[39m %7  = @_5\u001b[36m::Tuple{Int64, Int64}\u001b[39m\n",
      "\u001b[90m│  \u001b[39m       (i = Core.getfield(%7, 1))\n",
      "\u001b[90m│  \u001b[39m %9  = Core.getfield(%7, 2)\u001b[36m::Int64\u001b[39m\n",
      "\u001b[90m│  \u001b[39m       (sum = sum + d)\n",
      "\u001b[90m│  \u001b[39m       (@_5 = Base.iterate(%2, %9))\n",
      "\u001b[90m│  \u001b[39m %12 = (@_5 === nothing)\u001b[36m::Bool\u001b[39m\n",
      "\u001b[90m│  \u001b[39m %13 = Base.not_int(%12)\u001b[36m::Bool\u001b[39m\n",
      "\u001b[90m└──\u001b[39m       goto #4 if not %13\n",
      "\u001b[90m3 ─\u001b[39m       goto #2\n",
      "\u001b[90m4 ┄\u001b[39m       return sum\n",
      "\n"
     ]
    }
   ],
   "source": [
    "@code_warntype arith_series(1, 2, 4)"
   ]
  },
  {
   "cell_type": "code",
   "execution_count": 40,
   "id": "c403d75a",
   "metadata": {},
   "outputs": [
    {
     "name": "stdout",
     "output_type": "stream",
     "text": [
      "MethodInstance for arith_series(::Int64, ::Float64, ::Int64)\n",
      "  from arith_series(a1, d, n) in Main at In[35]:8\n",
      "Arguments\n",
      "  #self#\u001b[36m::Core.Const(arith_series)\u001b[39m\n",
      "  a1\u001b[36m::Int64\u001b[39m\n",
      "  d\u001b[36m::Float64\u001b[39m\n",
      "  n\u001b[36m::Int64\u001b[39m\n",
      "Locals\n",
      "  @_5\u001b[33m\u001b[1m::Union{Nothing, Tuple{Int64, Int64}}\u001b[22m\u001b[39m\n",
      "  sum\u001b[91m\u001b[1m::Union{Float64, Int64}\u001b[22m\u001b[39m\n",
      "  i\u001b[36m::Int64\u001b[39m\n",
      "Body\u001b[91m\u001b[1m::Union{Float64, Int64}\u001b[22m\u001b[39m\n",
      "\u001b[90m1 ─\u001b[39m       (sum = a1)\n",
      "\u001b[90m│  \u001b[39m %2  = Main.range(0, n)\u001b[36m::Core.PartialStruct(UnitRange{Int64}, Any[Core.Const(0), Int64])\u001b[39m\n",
      "\u001b[90m│  \u001b[39m       (@_5 = Base.iterate(%2))\n",
      "\u001b[90m│  \u001b[39m %4  = (@_5 === nothing)\u001b[36m::Bool\u001b[39m\n",
      "\u001b[90m│  \u001b[39m %5  = Base.not_int(%4)\u001b[36m::Bool\u001b[39m\n",
      "\u001b[90m└──\u001b[39m       goto #4 if not %5\n",
      "\u001b[90m2 ┄\u001b[39m %7  = @_5\u001b[36m::Tuple{Int64, Int64}\u001b[39m\n",
      "\u001b[90m│  \u001b[39m       (i = Core.getfield(%7, 1))\n",
      "\u001b[90m│  \u001b[39m %9  = Core.getfield(%7, 2)\u001b[36m::Int64\u001b[39m\n",
      "\u001b[90m│  \u001b[39m       (sum = sum + d)\n",
      "\u001b[90m│  \u001b[39m       (@_5 = Base.iterate(%2, %9))\n",
      "\u001b[90m│  \u001b[39m %12 = (@_5 === nothing)\u001b[36m::Bool\u001b[39m\n",
      "\u001b[90m│  \u001b[39m %13 = Base.not_int(%12)\u001b[36m::Bool\u001b[39m\n",
      "\u001b[90m└──\u001b[39m       goto #4 if not %13\n",
      "\u001b[90m3 ─\u001b[39m       goto #2\n",
      "\u001b[90m4 ┄\u001b[39m       return sum\n",
      "\n"
     ]
    }
   ],
   "source": [
    "@code_warntype arith_series(1, 2.0, 4)"
   ]
  },
  {
   "cell_type": "code",
   "execution_count": 41,
   "id": "a6204d6d",
   "metadata": {},
   "outputs": [
    {
     "name": "stdout",
     "output_type": "stream",
     "text": [
      "MethodInstance for arith_series(::Float64, ::Float64, ::Int64)\n",
      "  from arith_series(a1, d, n) in Main at In[35]:8\n",
      "Arguments\n",
      "  #self#\u001b[36m::Core.Const(arith_series)\u001b[39m\n",
      "  a1\u001b[36m::Float64\u001b[39m\n",
      "  d\u001b[36m::Float64\u001b[39m\n",
      "  n\u001b[36m::Int64\u001b[39m\n",
      "Locals\n",
      "  @_5\u001b[33m\u001b[1m::Union{Nothing, Tuple{Int64, Int64}}\u001b[22m\u001b[39m\n",
      "  sum\u001b[36m::Float64\u001b[39m\n",
      "  i\u001b[36m::Int64\u001b[39m\n",
      "Body\u001b[36m::Float64\u001b[39m\n",
      "\u001b[90m1 ─\u001b[39m       (sum = a1)\n",
      "\u001b[90m│  \u001b[39m %2  = Main.range(0, n)\u001b[36m::Core.PartialStruct(UnitRange{Int64}, Any[Core.Const(0), Int64])\u001b[39m\n",
      "\u001b[90m│  \u001b[39m       (@_5 = Base.iterate(%2))\n",
      "\u001b[90m│  \u001b[39m %4  = (@_5 === nothing)\u001b[36m::Bool\u001b[39m\n",
      "\u001b[90m│  \u001b[39m %5  = Base.not_int(%4)\u001b[36m::Bool\u001b[39m\n",
      "\u001b[90m└──\u001b[39m       goto #4 if not %5\n",
      "\u001b[90m2 ┄\u001b[39m %7  = @_5\u001b[36m::Tuple{Int64, Int64}\u001b[39m\n",
      "\u001b[90m│  \u001b[39m       (i = Core.getfield(%7, 1))\n",
      "\u001b[90m│  \u001b[39m %9  = Core.getfield(%7, 2)\u001b[36m::Int64\u001b[39m\n",
      "\u001b[90m│  \u001b[39m       (sum = sum + d)\n",
      "\u001b[90m│  \u001b[39m       (@_5 = Base.iterate(%2, %9))\n",
      "\u001b[90m│  \u001b[39m %12 = (@_5 === nothing)\u001b[36m::Bool\u001b[39m\n",
      "\u001b[90m│  \u001b[39m %13 = Base.not_int(%12)\u001b[36m::Bool\u001b[39m\n",
      "\u001b[90m└──\u001b[39m       goto #4 if not %13\n",
      "\u001b[90m3 ─\u001b[39m       goto #2\n",
      "\u001b[90m4 ┄\u001b[39m       return sum\n",
      "\n"
     ]
    }
   ],
   "source": [
    "@code_warntype arith_series(1.0, 2.0, 4)"
   ]
  },
  {
   "cell_type": "code",
   "execution_count": 42,
   "id": "5f5b20ed",
   "metadata": {},
   "outputs": [
    {
     "name": "stdout",
     "output_type": "stream",
     "text": [
      "MethodInstance for arith_series(::Int64, ::Float64, ::Float64)\n",
      "  from arith_series(a1, d, n) in Main at In[35]:8\n",
      "Arguments\n",
      "  #self#\u001b[36m::Core.Const(arith_series)\u001b[39m\n",
      "  a1\u001b[36m::Int64\u001b[39m\n",
      "  d\u001b[36m::Float64\u001b[39m\n",
      "  n\u001b[36m::Float64\u001b[39m\n",
      "Locals\n",
      "  @_5\u001b[33m\u001b[1m::Union{Nothing, Tuple{Float64, Int64}}\u001b[22m\u001b[39m\n",
      "  sum\u001b[91m\u001b[1m::Union{Float64, Int64}\u001b[22m\u001b[39m\n",
      "  i\u001b[36m::Float64\u001b[39m\n",
      "Body\u001b[91m\u001b[1m::Union{Float64, Int64}\u001b[22m\u001b[39m\n",
      "\u001b[90m1 ─\u001b[39m       (sum = a1)\n",
      "\u001b[90m│  \u001b[39m %2  = Main.range(0, n)\u001b[36m::StepRangeLen{Float64, Base.TwicePrecision{Float64}, Base.TwicePrecision{Float64}, Int64}\u001b[39m\n",
      "\u001b[90m│  \u001b[39m       (@_5 = Base.iterate(%2))\n",
      "\u001b[90m│  \u001b[39m %4  = (@_5 === nothing)\u001b[36m::Bool\u001b[39m\n",
      "\u001b[90m│  \u001b[39m %5  = Base.not_int(%4)\u001b[36m::Bool\u001b[39m\n",
      "\u001b[90m└──\u001b[39m       goto #4 if not %5\n",
      "\u001b[90m2 ┄\u001b[39m %7  = @_5\u001b[36m::Tuple{Float64, Int64}\u001b[39m\n",
      "\u001b[90m│  \u001b[39m       (i = Core.getfield(%7, 1))\n",
      "\u001b[90m│  \u001b[39m %9  = Core.getfield(%7, 2)\u001b[36m::Int64\u001b[39m\n",
      "\u001b[90m│  \u001b[39m       (sum = sum + d)\n",
      "\u001b[90m│  \u001b[39m       (@_5 = Base.iterate(%2, %9))\n",
      "\u001b[90m│  \u001b[39m %12 = (@_5 === nothing)\u001b[36m::Bool\u001b[39m\n",
      "\u001b[90m│  \u001b[39m %13 = Base.not_int(%12)\u001b[36m::Bool\u001b[39m\n",
      "\u001b[90m└──\u001b[39m       goto #4 if not %13\n",
      "\u001b[90m3 ─\u001b[39m       goto #2\n",
      "\u001b[90m4 ┄\u001b[39m       return sum\n",
      "\n"
     ]
    }
   ],
   "source": [
    "@code_warntype arith_series(1, 2.0, 4.0)"
   ]
  },
  {
   "cell_type": "code",
   "execution_count": 43,
   "id": "4caeffc0",
   "metadata": {
    "scrolled": true
   },
   "outputs": [
    {
     "name": "stdout",
     "output_type": "stream",
     "text": [
      "MethodInstance for comp_arith_series(::Int64, ::Int64, ::Int64, ::Int64)\n",
      "  from comp_arith_series(a1, d, n, comp) in Main at In[37]:9\n",
      "Arguments\n",
      "  #self#\u001b[36m::Core.Const(comp_arith_series)\u001b[39m\n",
      "  a1\u001b[36m::Int64\u001b[39m\n",
      "  d\u001b[36m::Int64\u001b[39m\n",
      "  n\u001b[36m::Int64\u001b[39m\n",
      "  comp\u001b[36m::Int64\u001b[39m\n",
      "Locals\n",
      "  sum\u001b[36m::Int64\u001b[39m\n",
      "Body\u001b[36m::Int64\u001b[39m\n",
      "\u001b[90m1 ─\u001b[39m      (sum = Main.arith_series(a1, d, n))\n",
      "\u001b[90m│  \u001b[39m %2 = (sum >= comp)\u001b[36m::Bool\u001b[39m\n",
      "\u001b[90m└──\u001b[39m      goto #3 if not %2\n",
      "\u001b[90m2 ─\u001b[39m      return sum\n",
      "\u001b[90m3 ─\u001b[39m      return comp\n",
      "\n"
     ]
    }
   ],
   "source": [
    "@code_warntype comp_arith_series(1, 2, 4, 20)"
   ]
  },
  {
   "cell_type": "code",
   "execution_count": 44,
   "id": "ba77e026",
   "metadata": {},
   "outputs": [
    {
     "name": "stdout",
     "output_type": "stream",
     "text": [
      "MethodInstance for comp_arith_series(::Float64, ::Float64, ::Int64, ::Int64)\n",
      "  from comp_arith_series(a1, d, n, comp) in Main at In[37]:9\n",
      "Arguments\n",
      "  #self#\u001b[36m::Core.Const(comp_arith_series)\u001b[39m\n",
      "  a1\u001b[36m::Float64\u001b[39m\n",
      "  d\u001b[36m::Float64\u001b[39m\n",
      "  n\u001b[36m::Int64\u001b[39m\n",
      "  comp\u001b[36m::Int64\u001b[39m\n",
      "Locals\n",
      "  sum\u001b[36m::Float64\u001b[39m\n",
      "Body\u001b[91m\u001b[1m::Union{Float64, Int64}\u001b[22m\u001b[39m\n",
      "\u001b[90m1 ─\u001b[39m      (sum = Main.arith_series(a1, d, n))\n",
      "\u001b[90m│  \u001b[39m %2 = (sum >= comp)\u001b[36m::Bool\u001b[39m\n",
      "\u001b[90m└──\u001b[39m      goto #3 if not %2\n",
      "\u001b[90m2 ─\u001b[39m      return sum\n",
      "\u001b[90m3 ─\u001b[39m      return comp\n",
      "\n"
     ]
    }
   ],
   "source": [
    "@code_warntype comp_arith_series(1.0, 2.0, 4, 20)"
   ]
  },
  {
   "cell_type": "markdown",
   "id": "d1c7d8ce",
   "metadata": {},
   "source": [
    "The result of the ``@code_warntype`` confirms that if all the data type of the input values does not match the data type of the return values then we would receive a possible source of error as shown by the red text. This also applies when we have two return values with different data types. However, only a warning is given as shown by the yellow text when another input for the data type which does not directly affect the calculation just like that of ``n``."
   ]
  },
  {
   "cell_type": "markdown",
   "id": "91b38b40",
   "metadata": {},
   "source": [
    "Since we now have an idea of the possible sources of error, we write a new version where the issues are fixed. Instead of a for-loop, we implement the arithmetic series using Eq. \\eqref{1}. This will work since Julia can choose the data type for the result and what we now have is a one liner code. This is unlike the function with the type-instability where the lines of the code have different data types."
   ]
  },
  {
   "cell_type": "code",
   "execution_count": 45,
   "id": "5827a145",
   "metadata": {},
   "outputs": [
    {
     "data": {
      "text/plain": [
       "fixed_arith_series"
      ]
     },
     "execution_count": 45,
     "metadata": {},
     "output_type": "execute_result"
    }
   ],
   "source": [
    "\"\"\"\n",
    "    fixed_arith_series(a1, d, n)\n",
    "Stable version of arith_series(a1, d, n)\n",
    "\"\"\"\n",
    "function fixed_arith_series(a1, d, n)\n",
    "    return a1+d*n   # Equation 1\n",
    "end"
   ]
  },
  {
   "cell_type": "code",
   "execution_count": 46,
   "id": "821e37e0",
   "metadata": {},
   "outputs": [
    {
     "name": "stdout",
     "output_type": "stream",
     "text": [
      "MethodInstance for fixed_arith_series(::Int64, ::Float64, ::Int64)\n",
      "  from fixed_arith_series(a1, d, n) in Main at In[45]:5\n",
      "Arguments\n",
      "  #self#\u001b[36m::Core.Const(fixed_arith_series)\u001b[39m\n",
      "  a1\u001b[36m::Int64\u001b[39m\n",
      "  d\u001b[36m::Float64\u001b[39m\n",
      "  n\u001b[36m::Int64\u001b[39m\n",
      "Body\u001b[36m::Float64\u001b[39m\n",
      "\u001b[90m1 ─\u001b[39m %1 = (d * n)\u001b[36m::Float64\u001b[39m\n",
      "\u001b[90m│  \u001b[39m %2 = (a1 + %1)\u001b[36m::Float64\u001b[39m\n",
      "\u001b[90m└──\u001b[39m      return %2\n",
      "\n"
     ]
    }
   ],
   "source": [
    "@code_warntype fixed_arith_series(1, 2.0, 4)"
   ]
  },
  {
   "cell_type": "code",
   "execution_count": 47,
   "id": "52354630",
   "metadata": {},
   "outputs": [
    {
     "name": "stdout",
     "output_type": "stream",
     "text": [
      "MethodInstance for fixed_arith_series(::Int64, ::Int64, ::Int64)\n",
      "  from fixed_arith_series(a1, d, n) in Main at In[45]:5\n",
      "Arguments\n",
      "  #self#\u001b[36m::Core.Const(fixed_arith_series)\u001b[39m\n",
      "  a1\u001b[36m::Int64\u001b[39m\n",
      "  d\u001b[36m::Int64\u001b[39m\n",
      "  n\u001b[36m::Int64\u001b[39m\n",
      "Body\u001b[36m::Int64\u001b[39m\n",
      "\u001b[90m1 ─\u001b[39m %1 = (d * n)\u001b[36m::Int64\u001b[39m\n",
      "\u001b[90m│  \u001b[39m %2 = (a1 + %1)\u001b[36m::Int64\u001b[39m\n",
      "\u001b[90m└──\u001b[39m      return %2\n",
      "\n"
     ]
    }
   ],
   "source": [
    "@code_warntype fixed_arith_series(1, 2, 4)"
   ]
  },
  {
   "cell_type": "markdown",
   "id": "2a5ea6d3",
   "metadata": {},
   "source": [
    "Finally, we also defined a stable version of the code which compares ``comp`` with the result of the arithmetic series. We do this by converting the data types of the return values to always be ``Float64`` by using ``convert()``."
   ]
  },
  {
   "cell_type": "code",
   "execution_count": 48,
   "id": "09b31740",
   "metadata": {},
   "outputs": [
    {
     "data": {
      "text/plain": [
       "fcomp_arith_series"
      ]
     },
     "execution_count": 48,
     "metadata": {},
     "output_type": "execute_result"
    }
   ],
   "source": [
    "\"\"\"\n",
    "    fcomp_fixed_arith_series(a1, d, n, comp)\n",
    "Stable version of comp_arith_series(a1, d, n, comp)\n",
    "\"\"\"\n",
    "function fcomp_arith_series(a1, d, n, comp)\n",
    "    sum = convert(Float64,fixed_arith_series(a1, d, n))   # Convert the result for Arithmetic series as float.\n",
    "    if sum >= comp\n",
    "        return sum\n",
    "    else\n",
    "        return convert(Float64, comp)           # Convert the datatype of comp to Float64\n",
    "    end\n",
    "end"
   ]
  },
  {
   "cell_type": "code",
   "execution_count": 49,
   "id": "599bcc5f",
   "metadata": {},
   "outputs": [
    {
     "name": "stdout",
     "output_type": "stream",
     "text": [
      "MethodInstance for fcomp_arith_series(::Float64, ::Float64, ::Int64, ::Int64)\n",
      "  from fcomp_arith_series(a1, d, n, comp) in Main at In[48]:5\n",
      "Arguments\n",
      "  #self#\u001b[36m::Core.Const(fcomp_arith_series)\u001b[39m\n",
      "  a1\u001b[36m::Float64\u001b[39m\n",
      "  d\u001b[36m::Float64\u001b[39m\n",
      "  n\u001b[36m::Int64\u001b[39m\n",
      "  comp\u001b[36m::Int64\u001b[39m\n",
      "Locals\n",
      "  sum\u001b[36m::Float64\u001b[39m\n",
      "Body\u001b[36m::Float64\u001b[39m\n",
      "\u001b[90m1 ─\u001b[39m %1 = Main.fixed_arith_series(a1, d, n)\u001b[36m::Float64\u001b[39m\n",
      "\u001b[90m│  \u001b[39m      (sum = Main.convert(Main.Float64, %1))\n",
      "\u001b[90m│  \u001b[39m %3 = (sum >= comp)\u001b[36m::Bool\u001b[39m\n",
      "\u001b[90m└──\u001b[39m      goto #3 if not %3\n",
      "\u001b[90m2 ─\u001b[39m      return sum\n",
      "\u001b[90m3 ─\u001b[39m %6 = Main.convert(Main.Float64, comp)\u001b[36m::Float64\u001b[39m\n",
      "\u001b[90m└──\u001b[39m      return %6\n",
      "\n"
     ]
    }
   ],
   "source": [
    "@code_warntype fcomp_arith_series(1.0, 2.0, 4, 20)"
   ]
  },
  {
   "cell_type": "markdown",
   "id": "f9b28164",
   "metadata": {},
   "source": [
    "There are other ways to define a stable function. It is important to first determine the data types of the initial and return values. This is implemented by using ``typeof()`` and ``eltype()``. While we set our data types to be floating numbers for the return values using ``convert()``, we can also do this by multiplying the expression by ``1.0``."
   ]
  },
  {
   "cell_type": "markdown",
   "id": "6574724c",
   "metadata": {},
   "source": [
    "# KR6\n",
    "Demonstration of how Arrays containing ambiguous/abstract types often results to slow execution of codes. The BenchmarkTools may be useful in this part."
   ]
  },
  {
   "cell_type": "code",
   "execution_count": 50,
   "id": "040db387",
   "metadata": {},
   "outputs": [],
   "source": [
    "using BenchmarkTools"
   ]
  },
  {
   "cell_type": "code",
   "execution_count": 51,
   "id": "9d128683",
   "metadata": {},
   "outputs": [
    {
     "data": {
      "text/plain": [
       "my_sum"
      ]
     },
     "execution_count": 51,
     "metadata": {},
     "output_type": "execute_result"
    }
   ],
   "source": [
    "\"\"\"\n",
    "    my_sum(x::Array{T}) where T <: Number\n",
    "Returns the sum of all the elements in Array x.\n",
    "\"\"\"\n",
    "function my_sum(x::Array{T}) where T <: Number\n",
    "    sum = zero(T)   # Initialise the sum\n",
    "    for i in 1:length(x)\n",
    "        sum += x[i]\n",
    "    end\n",
    "    return sum\n",
    "end"
   ]
  },
  {
   "cell_type": "markdown",
   "id": "98cc0d82",
   "metadata": {},
   "source": [
    "To differentiate the execution time based on the ambiguous/abstract types, we define an array of ``Float64`` and ``Number``."
   ]
  },
  {
   "cell_type": "code",
   "execution_count": 52,
   "id": "f0ac4048",
   "metadata": {},
   "outputs": [],
   "source": [
    "x1 = Float64[ 1.0, 2.0, 3.0, 4.0, 5.0, 6.0, 7.0, 8.0, 9.0, 10.0, 11.0, 12.0, 13.0, 14.0, 15.0];\n",
    "x2 = Number[ 1.0, 2.0, 3.0, 4.0, 5.0, 6.0, 7.0, 8.0, 9.0, 10.0, 11.0, 12.0, 13.0, 14.0, 15.0];"
   ]
  },
  {
   "cell_type": "markdown",
   "id": "6e650c39",
   "metadata": {},
   "source": [
    "Next, we implement ``@benchmark`` to record the execution time."
   ]
  },
  {
   "cell_type": "code",
   "execution_count": 53,
   "id": "6fd67879",
   "metadata": {},
   "outputs": [
    {
     "data": {
      "text/plain": [
       "BenchmarkTools.Trial: 10000 samples with 996 evaluations.\n",
       " Range \u001b[90m(\u001b[39m\u001b[36m\u001b[1mmin\u001b[22m\u001b[39m … \u001b[35mmax\u001b[39m\u001b[90m):  \u001b[39m\u001b[36m\u001b[1m23.301 ns\u001b[22m\u001b[39m … \u001b[35m 1.828 μs\u001b[39m  \u001b[90m┊\u001b[39m GC \u001b[90m(\u001b[39mmin … max\u001b[90m): \u001b[39m0.00% … 98.46%\n",
       " Time  \u001b[90m(\u001b[39m\u001b[34m\u001b[1mmedian\u001b[22m\u001b[39m\u001b[90m):     \u001b[39m\u001b[34m\u001b[1m24.683 ns              \u001b[22m\u001b[39m\u001b[90m┊\u001b[39m GC \u001b[90m(\u001b[39mmedian\u001b[90m):    \u001b[39m0.00%\n",
       " Time  \u001b[90m(\u001b[39m\u001b[32m\u001b[1mmean\u001b[22m\u001b[39m ± \u001b[32mσ\u001b[39m\u001b[90m):   \u001b[39m\u001b[32m\u001b[1m26.161 ns\u001b[22m\u001b[39m ± \u001b[32m29.289 ns\u001b[39m  \u001b[90m┊\u001b[39m GC \u001b[90m(\u001b[39mmean ± σ\u001b[90m):  \u001b[39m1.91% ±  1.70%\n",
       "\n",
       "  \u001b[39m▃\u001b[39m▁\u001b[39m \u001b[39m▂\u001b[39m▅\u001b[39m█\u001b[34m▅\u001b[39m\u001b[39m▅\u001b[39m▄\u001b[39m▆\u001b[39m▄\u001b[39m▃\u001b[39m▃\u001b[32m▂\u001b[39m\u001b[39m▂\u001b[39m▁\u001b[39m▁\u001b[39m▁\u001b[39m \u001b[39m \u001b[39m \u001b[39m \u001b[39m \u001b[39m \u001b[39m \u001b[39m \u001b[39m \u001b[39m \u001b[39m \u001b[39m \u001b[39m \u001b[39m \u001b[39m \u001b[39m \u001b[39m \u001b[39m \u001b[39m \u001b[39m \u001b[39m \u001b[39m \u001b[39m \u001b[39m \u001b[39m \u001b[39m \u001b[39m \u001b[39m \u001b[39m \u001b[39m \u001b[39m \u001b[39m \u001b[39m \u001b[39m \u001b[39m \u001b[39m \u001b[39m \u001b[39m \u001b[39m \u001b[39m \u001b[39m \u001b[39m \u001b[39m▂\n",
       "  \u001b[39m█\u001b[39m█\u001b[39m▅\u001b[39m█\u001b[39m█\u001b[39m█\u001b[34m█\u001b[39m\u001b[39m█\u001b[39m█\u001b[39m█\u001b[39m█\u001b[39m█\u001b[39m█\u001b[32m█\u001b[39m\u001b[39m█\u001b[39m█\u001b[39m█\u001b[39m█\u001b[39m█\u001b[39m█\u001b[39m█\u001b[39m█\u001b[39m█\u001b[39m█\u001b[39m█\u001b[39m▇\u001b[39m▇\u001b[39m█\u001b[39m█\u001b[39m█\u001b[39m█\u001b[39m▇\u001b[39m█\u001b[39m▇\u001b[39m▇\u001b[39m▇\u001b[39m█\u001b[39m█\u001b[39m█\u001b[39m▇\u001b[39m▇\u001b[39m▇\u001b[39m▆\u001b[39m▇\u001b[39m▆\u001b[39m▆\u001b[39m▄\u001b[39m▄\u001b[39m▆\u001b[39m▄\u001b[39m▃\u001b[39m▄\u001b[39m▄\u001b[39m▅\u001b[39m▅\u001b[39m▁\u001b[39m▄\u001b[39m▃\u001b[39m▄\u001b[39m \u001b[39m█\n",
       "  23.3 ns\u001b[90m      \u001b[39m\u001b[90mHistogram: \u001b[39m\u001b[90m\u001b[1mlog(\u001b[22m\u001b[39m\u001b[90mfrequency\u001b[39m\u001b[90m\u001b[1m)\u001b[22m\u001b[39m\u001b[90m by time\u001b[39m      36.6 ns \u001b[0m\u001b[1m<\u001b[22m\n",
       "\n",
       " Memory estimate\u001b[90m: \u001b[39m\u001b[33m16 bytes\u001b[39m, allocs estimate\u001b[90m: \u001b[39m\u001b[33m1\u001b[39m."
      ]
     },
     "execution_count": 53,
     "metadata": {},
     "output_type": "execute_result"
    }
   ],
   "source": [
    "statx1 = @benchmark my_sum(x1)"
   ]
  },
  {
   "cell_type": "code",
   "execution_count": 54,
   "id": "f9cfd73a",
   "metadata": {},
   "outputs": [
    {
     "data": {
      "text/plain": [
       "BenchmarkTools.Trial: 10000 samples with 550 evaluations.\n",
       " Range \u001b[90m(\u001b[39m\u001b[36m\u001b[1mmin\u001b[22m\u001b[39m … \u001b[35mmax\u001b[39m\u001b[90m):  \u001b[39m\u001b[36m\u001b[1m208.484 ns\u001b[22m\u001b[39m … \u001b[35m  3.464 μs\u001b[39m  \u001b[90m┊\u001b[39m GC \u001b[90m(\u001b[39mmin … max\u001b[90m): \u001b[39m0.00% … 93.47%\n",
       " Time  \u001b[90m(\u001b[39m\u001b[34m\u001b[1mmedian\u001b[22m\u001b[39m\u001b[90m):     \u001b[39m\u001b[34m\u001b[1m213.258 ns               \u001b[22m\u001b[39m\u001b[90m┊\u001b[39m GC \u001b[90m(\u001b[39mmedian\u001b[90m):    \u001b[39m0.00%\n",
       " Time  \u001b[90m(\u001b[39m\u001b[32m\u001b[1mmean\u001b[22m\u001b[39m ± \u001b[32mσ\u001b[39m\u001b[90m):   \u001b[39m\u001b[32m\u001b[1m225.395 ns\u001b[22m\u001b[39m ± \u001b[32m155.298 ns\u001b[39m  \u001b[90m┊\u001b[39m GC \u001b[90m(\u001b[39mmean ± σ\u001b[90m):  \u001b[39m3.62% ±  4.91%\n",
       "\n",
       "  \u001b[39m▅\u001b[39m▅\u001b[39m▇\u001b[34m█\u001b[39m\u001b[39m▄\u001b[39m▄\u001b[39m▅\u001b[39m▃\u001b[39m▄\u001b[39m▃\u001b[39m▂\u001b[32m▂\u001b[39m\u001b[39m▂\u001b[39m▁\u001b[39m▁\u001b[39m \u001b[39m \u001b[39m \u001b[39m \u001b[39m \u001b[39m \u001b[39m \u001b[39m \u001b[39m \u001b[39m \u001b[39m \u001b[39m \u001b[39m \u001b[39m \u001b[39m \u001b[39m \u001b[39m \u001b[39m \u001b[39m \u001b[39m \u001b[39m \u001b[39m \u001b[39m \u001b[39m \u001b[39m \u001b[39m \u001b[39m \u001b[39m \u001b[39m \u001b[39m \u001b[39m \u001b[39m \u001b[39m \u001b[39m \u001b[39m \u001b[39m \u001b[39m \u001b[39m \u001b[39m \u001b[39m \u001b[39m \u001b[39m \u001b[39m \u001b[39m \u001b[39m \u001b[39m \u001b[39m \u001b[39m▂\n",
       "  \u001b[39m█\u001b[39m█\u001b[39m█\u001b[34m█\u001b[39m\u001b[39m█\u001b[39m█\u001b[39m█\u001b[39m█\u001b[39m█\u001b[39m█\u001b[39m█\u001b[32m█\u001b[39m\u001b[39m█\u001b[39m█\u001b[39m█\u001b[39m█\u001b[39m█\u001b[39m█\u001b[39m▇\u001b[39m█\u001b[39m█\u001b[39m▇\u001b[39m▇\u001b[39m▇\u001b[39m▅\u001b[39m▆\u001b[39m▇\u001b[39m▆\u001b[39m▆\u001b[39m▆\u001b[39m▆\u001b[39m▆\u001b[39m▇\u001b[39m▆\u001b[39m▇\u001b[39m▆\u001b[39m▅\u001b[39m▆\u001b[39m▆\u001b[39m▆\u001b[39m▇\u001b[39m▆\u001b[39m▆\u001b[39m▅\u001b[39m▄\u001b[39m▄\u001b[39m▄\u001b[39m▁\u001b[39m▃\u001b[39m▃\u001b[39m▃\u001b[39m▁\u001b[39m▅\u001b[39m▄\u001b[39m▄\u001b[39m▁\u001b[39m▅\u001b[39m▄\u001b[39m▄\u001b[39m▃\u001b[39m▅\u001b[39m \u001b[39m█\n",
       "  208 ns\u001b[90m        \u001b[39m\u001b[90mHistogram: \u001b[39m\u001b[90m\u001b[1mlog(\u001b[22m\u001b[39m\u001b[90mfrequency\u001b[39m\u001b[90m\u001b[1m)\u001b[22m\u001b[39m\u001b[90m by time\u001b[39m        301 ns \u001b[0m\u001b[1m<\u001b[22m\n",
       "\n",
       " Memory estimate\u001b[90m: \u001b[39m\u001b[33m240 bytes\u001b[39m, allocs estimate\u001b[90m: \u001b[39m\u001b[33m15\u001b[39m."
      ]
     },
     "execution_count": 54,
     "metadata": {},
     "output_type": "execute_result"
    }
   ],
   "source": [
    "statx2 = @benchmark my_sum(x2)"
   ]
  },
  {
   "cell_type": "code",
   "execution_count": 55,
   "id": "c450afa8",
   "metadata": {},
   "outputs": [
    {
     "name": "stdout",
     "output_type": "stream",
     "text": [
      " The ratio for the median time of a Number array and an abstract Float64 array is 8.639975150134603\n"
     ]
    }
   ],
   "source": [
    "println(\" The ratio for the median time of a Number array and an abstract Float64 array is $(median(statx2.times)/median(statx1.times))\")"
   ]
  },
  {
   "cell_type": "markdown",
   "id": "4b2fa009",
   "metadata": {},
   "source": [
    "Hence, a more specific array will result to faster execution of the code. In this case, the Float64 Array is $\\approx 8$ times faster than the Number Array."
   ]
  }
 ],
 "metadata": {
  "hide_input": false,
  "kernelspec": {
   "display_name": "Julia 1.8.0",
   "language": "julia",
   "name": "julia-1.8"
  },
  "language_info": {
   "file_extension": ".jl",
   "mimetype": "application/julia",
   "name": "julia",
   "version": "1.8.0"
  },
  "latex_envs": {
   "LaTeX_envs_menu_present": true,
   "autoclose": false,
   "autocomplete": true,
   "bibliofile": "biblio.bib",
   "cite_by": "apalike",
   "current_citInitial": 1,
   "eqLabelWithNumbers": true,
   "eqNumInitial": 1,
   "hotkeys": {
    "equation": "Ctrl-E",
    "itemize": "Ctrl-I"
   },
   "labels_anchors": false,
   "latex_user_defs": false,
   "report_style_numbering": false,
   "user_envs_cfg": false
  },
  "toc": {
   "base_numbering": 1,
   "nav_menu": {},
   "number_sections": false,
   "sideBar": true,
   "skip_h1_title": false,
   "title_cell": "Table of Contents",
   "title_sidebar": "Contents",
   "toc_cell": false,
   "toc_position": {},
   "toc_section_display": true,
   "toc_window_display": true
  },
  "varInspector": {
   "cols": {
    "lenName": 16,
    "lenType": 16,
    "lenVar": 40
   },
   "kernels_config": {
    "python": {
     "delete_cmd_postfix": "",
     "delete_cmd_prefix": "del ",
     "library": "var_list.py",
     "varRefreshCmd": "print(var_dic_list())"
    },
    "r": {
     "delete_cmd_postfix": ") ",
     "delete_cmd_prefix": "rm(",
     "library": "var_list.r",
     "varRefreshCmd": "cat(var_dic_list()) "
    }
   },
   "types_to_exclude": [
    "module",
    "function",
    "builtin_function_or_method",
    "instance",
    "_Feature"
   ],
   "window_display": false
  }
 },
 "nbformat": 4,
 "nbformat_minor": 5
}
